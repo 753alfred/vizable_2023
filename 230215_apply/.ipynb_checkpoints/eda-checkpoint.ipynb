{
 "cells": [
  {
   "cell_type": "markdown",
   "id": "7395dc61",
   "metadata": {},
   "source": [
    "# 1. 데이터 확인"
   ]
  },
  {
   "cell_type": "code",
   "execution_count": 2,
   "id": "71fc455e",
   "metadata": {
    "execution": {
     "iopub.execute_input": "2023-02-15T09:07:10.422781Z",
     "iopub.status.busy": "2023-02-15T09:07:10.422539Z",
     "iopub.status.idle": "2023-02-15T09:07:10.920012Z",
     "shell.execute_reply": "2023-02-15T09:07:10.919425Z",
     "shell.execute_reply.started": "2023-02-15T09:07:10.422757Z"
    }
   },
   "outputs": [],
   "source": [
    "import numpy as np\n",
    "import pandas as pd\n",
    "import matplotlib.pyplot as plt"
   ]
  },
  {
   "cell_type": "code",
   "execution_count": 3,
   "id": "35799e82",
   "metadata": {
    "execution": {
     "iopub.execute_input": "2023-02-15T09:07:10.921160Z",
     "iopub.status.busy": "2023-02-15T09:07:10.920982Z",
     "iopub.status.idle": "2023-02-15T09:07:10.924948Z",
     "shell.execute_reply": "2023-02-15T09:07:10.924446Z",
     "shell.execute_reply.started": "2023-02-15T09:07:10.921140Z"
    }
   },
   "outputs": [],
   "source": [
    "# 한글 폰트 사용을 위해서 세팅\n",
    "plt.rcParams['font.family'] ='NanumGothic'\n",
    "plt.rcParams['axes.unicode_minus'] =False"
   ]
  },
  {
   "cell_type": "raw",
   "id": "12f67949",
   "metadata": {},
   "source": [
    "# 저장된 한글 폰트 확인용\n",
    "from matplotlib import font_manager\n",
    "for i in font_manager.fontManager.ttflist:\n",
    "    print(i.name)#, i.fname)"
   ]
  },
  {
   "cell_type": "code",
   "execution_count": 4,
   "id": "6df89536",
   "metadata": {
    "execution": {
     "iopub.execute_input": "2023-02-15T09:07:11.447998Z",
     "iopub.status.busy": "2023-02-15T09:07:11.447755Z",
     "iopub.status.idle": "2023-02-15T09:07:11.450959Z",
     "shell.execute_reply": "2023-02-15T09:07:11.450305Z",
     "shell.execute_reply.started": "2023-02-15T09:07:11.447975Z"
    }
   },
   "outputs": [],
   "source": [
    "filename_data = 'superstore_data_sample.xls'"
   ]
  },
  {
   "cell_type": "code",
   "execution_count": 5,
   "id": "b64c8e0a",
   "metadata": {
    "execution": {
     "iopub.execute_input": "2023-02-15T09:07:11.728955Z",
     "iopub.status.busy": "2023-02-15T09:07:11.728703Z",
     "iopub.status.idle": "2023-02-15T09:07:12.317450Z",
     "shell.execute_reply": "2023-02-15T09:07:12.316752Z",
     "shell.execute_reply.started": "2023-02-15T09:07:11.728930Z"
    }
   },
   "outputs": [
    {
     "data": {
      "text/plain": [
       "dict"
      ]
     },
     "execution_count": 5,
     "metadata": {},
     "output_type": "execute_result"
    }
   ],
   "source": [
    "df_sheets_all = pd.read_excel(\n",
    "    filename_data, \n",
    "    sheet_name=None,\n",
    ")\n",
    "type(df_sheets_all)"
   ]
  },
  {
   "cell_type": "code",
   "execution_count": 6,
   "id": "ced5ae41",
   "metadata": {
    "execution": {
     "iopub.execute_input": "2023-02-15T09:07:12.737125Z",
     "iopub.status.busy": "2023-02-15T09:07:12.736878Z",
     "iopub.status.idle": "2023-02-15T09:07:12.741098Z",
     "shell.execute_reply": "2023-02-15T09:07:12.740452Z",
     "shell.execute_reply.started": "2023-02-15T09:07:12.737100Z"
    }
   },
   "outputs": [
    {
     "data": {
      "text/plain": [
       "dict_keys(['주문', '반품 정리', '인력'])"
      ]
     },
     "execution_count": 6,
     "metadata": {},
     "output_type": "execute_result"
    }
   ],
   "source": [
    "df_sheets_all.keys()"
   ]
  },
  {
   "cell_type": "code",
   "execution_count": 7,
   "id": "bd68fe8a",
   "metadata": {
    "execution": {
     "iopub.execute_input": "2023-02-15T09:07:13.289865Z",
     "iopub.status.busy": "2023-02-15T09:07:13.289622Z",
     "iopub.status.idle": "2023-02-15T09:07:13.319035Z",
     "shell.execute_reply": "2023-02-15T09:07:13.318430Z",
     "shell.execute_reply.started": "2023-02-15T09:07:13.289840Z"
    }
   },
   "outputs": [
    {
     "data": {
      "text/html": [
       "<div>\n",
       "<style scoped>\n",
       "    .dataframe tbody tr th:only-of-type {\n",
       "        vertical-align: middle;\n",
       "    }\n",
       "\n",
       "    .dataframe tbody tr th {\n",
       "        vertical-align: top;\n",
       "    }\n",
       "\n",
       "    .dataframe thead th {\n",
       "        text-align: right;\n",
       "    }\n",
       "</style>\n",
       "<table border=\"1\" class=\"dataframe\">\n",
       "  <thead>\n",
       "    <tr style=\"text-align: right;\">\n",
       "      <th></th>\n",
       "      <th>행 ID</th>\n",
       "      <th>주문 ID</th>\n",
       "      <th>주문 날짜</th>\n",
       "      <th>배송 날짜</th>\n",
       "      <th>배송 형태</th>\n",
       "      <th>고객 ID</th>\n",
       "      <th>고객 이름</th>\n",
       "      <th>세그먼트</th>\n",
       "      <th>도시</th>\n",
       "      <th>시/도</th>\n",
       "      <th>국가/지역</th>\n",
       "      <th>지역</th>\n",
       "      <th>제품 ID</th>\n",
       "      <th>범주</th>\n",
       "      <th>하위 범주</th>\n",
       "      <th>제품 이름</th>\n",
       "      <th>매출</th>\n",
       "      <th>수량</th>\n",
       "      <th>할인율</th>\n",
       "      <th>수익</th>\n",
       "    </tr>\n",
       "  </thead>\n",
       "  <tbody>\n",
       "    <tr>\n",
       "      <th>0</th>\n",
       "      <td>1</td>\n",
       "      <td>IN-2020-27828</td>\n",
       "      <td>2020-08-27</td>\n",
       "      <td>2020-08-31</td>\n",
       "      <td>표준 등급</td>\n",
       "      <td>VT-21700</td>\n",
       "      <td>Valerie Takahito</td>\n",
       "      <td>홈 오피스</td>\n",
       "      <td>Quanzhou</td>\n",
       "      <td>Fujian</td>\n",
       "      <td>China</td>\n",
       "      <td>북아시아</td>\n",
       "      <td>OFF-PA-10000026</td>\n",
       "      <td>사무용품</td>\n",
       "      <td>용지</td>\n",
       "      <td>Eaton Cards &amp; Envelopes, 8.5 x 11</td>\n",
       "      <td>197.280</td>\n",
       "      <td>4</td>\n",
       "      <td>0.00</td>\n",
       "      <td>35.400</td>\n",
       "    </tr>\n",
       "    <tr>\n",
       "      <th>1</th>\n",
       "      <td>2</td>\n",
       "      <td>IN-2020-27828</td>\n",
       "      <td>2020-08-27</td>\n",
       "      <td>2020-08-31</td>\n",
       "      <td>표준 등급</td>\n",
       "      <td>VT-21700</td>\n",
       "      <td>Valerie Takahito</td>\n",
       "      <td>홈 오피스</td>\n",
       "      <td>Quanzhou</td>\n",
       "      <td>Fujian</td>\n",
       "      <td>China</td>\n",
       "      <td>북아시아</td>\n",
       "      <td>FUR-FU-10000944</td>\n",
       "      <td>가구</td>\n",
       "      <td>사무용 집기</td>\n",
       "      <td>Tenex Door Stop, Black</td>\n",
       "      <td>307.230</td>\n",
       "      <td>7</td>\n",
       "      <td>0.00</td>\n",
       "      <td>21.420</td>\n",
       "    </tr>\n",
       "    <tr>\n",
       "      <th>2</th>\n",
       "      <td>3</td>\n",
       "      <td>IN-2020-27828</td>\n",
       "      <td>2020-08-27</td>\n",
       "      <td>2020-08-31</td>\n",
       "      <td>표준 등급</td>\n",
       "      <td>VT-21700</td>\n",
       "      <td>Valerie Takahito</td>\n",
       "      <td>홈 오피스</td>\n",
       "      <td>Quanzhou</td>\n",
       "      <td>Fujian</td>\n",
       "      <td>China</td>\n",
       "      <td>북아시아</td>\n",
       "      <td>TEC-CO-10002526</td>\n",
       "      <td>기술</td>\n",
       "      <td>복사기</td>\n",
       "      <td>Sharp Wireless Fax, Digital</td>\n",
       "      <td>1422.240</td>\n",
       "      <td>4</td>\n",
       "      <td>0.00</td>\n",
       "      <td>526.200</td>\n",
       "    </tr>\n",
       "    <tr>\n",
       "      <th>3</th>\n",
       "      <td>4</td>\n",
       "      <td>IN-2020-27828</td>\n",
       "      <td>2020-08-27</td>\n",
       "      <td>2020-08-31</td>\n",
       "      <td>표준 등급</td>\n",
       "      <td>VT-21700</td>\n",
       "      <td>Valerie Takahito</td>\n",
       "      <td>홈 오피스</td>\n",
       "      <td>Quanzhou</td>\n",
       "      <td>Fujian</td>\n",
       "      <td>China</td>\n",
       "      <td>북아시아</td>\n",
       "      <td>TEC-AC-10002255</td>\n",
       "      <td>기술</td>\n",
       "      <td>액세서리</td>\n",
       "      <td>Memorex Keyboard, Erganomic</td>\n",
       "      <td>207.450</td>\n",
       "      <td>3</td>\n",
       "      <td>0.00</td>\n",
       "      <td>78.750</td>\n",
       "    </tr>\n",
       "    <tr>\n",
       "      <th>4</th>\n",
       "      <td>5</td>\n",
       "      <td>IN-2021-63178</td>\n",
       "      <td>2021-06-24</td>\n",
       "      <td>2021-06-30</td>\n",
       "      <td>표준 등급</td>\n",
       "      <td>SO-20335</td>\n",
       "      <td>Sean O'Donnell</td>\n",
       "      <td>일반 소비자</td>\n",
       "      <td>Marikina</td>\n",
       "      <td>Metro Manila</td>\n",
       "      <td>Philippines</td>\n",
       "      <td>동남아시아</td>\n",
       "      <td>OFF-AP-10002882</td>\n",
       "      <td>사무용품</td>\n",
       "      <td>가전 제품</td>\n",
       "      <td>KitchenAid Coffee Grinder, Silver</td>\n",
       "      <td>121.074</td>\n",
       "      <td>2</td>\n",
       "      <td>0.15</td>\n",
       "      <td>37.014</td>\n",
       "    </tr>\n",
       "    <tr>\n",
       "      <th>...</th>\n",
       "      <td>...</td>\n",
       "      <td>...</td>\n",
       "      <td>...</td>\n",
       "      <td>...</td>\n",
       "      <td>...</td>\n",
       "      <td>...</td>\n",
       "      <td>...</td>\n",
       "      <td>...</td>\n",
       "      <td>...</td>\n",
       "      <td>...</td>\n",
       "      <td>...</td>\n",
       "      <td>...</td>\n",
       "      <td>...</td>\n",
       "      <td>...</td>\n",
       "      <td>...</td>\n",
       "      <td>...</td>\n",
       "      <td>...</td>\n",
       "      <td>...</td>\n",
       "      <td>...</td>\n",
       "      <td>...</td>\n",
       "    </tr>\n",
       "    <tr>\n",
       "      <th>10928</th>\n",
       "      <td>10996</td>\n",
       "      <td>IN-2020-82673</td>\n",
       "      <td>2020-09-11</td>\n",
       "      <td>2020-09-15</td>\n",
       "      <td>표준 등급</td>\n",
       "      <td>EM-13810</td>\n",
       "      <td>Eleni McCrary</td>\n",
       "      <td>기업</td>\n",
       "      <td>Wellington</td>\n",
       "      <td>Wellington</td>\n",
       "      <td>New Zealand</td>\n",
       "      <td>오세아니아</td>\n",
       "      <td>OFF-ST-10004748</td>\n",
       "      <td>사무용품</td>\n",
       "      <td>보관함</td>\n",
       "      <td>Smead Lockers, Blue</td>\n",
       "      <td>396.840</td>\n",
       "      <td>2</td>\n",
       "      <td>0.00</td>\n",
       "      <td>59.520</td>\n",
       "    </tr>\n",
       "    <tr>\n",
       "      <th>10929</th>\n",
       "      <td>10997</td>\n",
       "      <td>IN-2020-82673</td>\n",
       "      <td>2020-09-11</td>\n",
       "      <td>2020-09-15</td>\n",
       "      <td>표준 등급</td>\n",
       "      <td>EM-13810</td>\n",
       "      <td>Eleni McCrary</td>\n",
       "      <td>기업</td>\n",
       "      <td>Wellington</td>\n",
       "      <td>Wellington</td>\n",
       "      <td>New Zealand</td>\n",
       "      <td>오세아니아</td>\n",
       "      <td>TEC-CO-10002678</td>\n",
       "      <td>기술</td>\n",
       "      <td>복사기</td>\n",
       "      <td>Brother Wireless Fax, High-Speed</td>\n",
       "      <td>1508.040</td>\n",
       "      <td>4</td>\n",
       "      <td>0.00</td>\n",
       "      <td>437.280</td>\n",
       "    </tr>\n",
       "    <tr>\n",
       "      <th>10930</th>\n",
       "      <td>10998</td>\n",
       "      <td>IN-2020-82673</td>\n",
       "      <td>2020-09-11</td>\n",
       "      <td>2020-09-15</td>\n",
       "      <td>표준 등급</td>\n",
       "      <td>EM-13810</td>\n",
       "      <td>Eleni McCrary</td>\n",
       "      <td>기업</td>\n",
       "      <td>Wellington</td>\n",
       "      <td>Wellington</td>\n",
       "      <td>New Zealand</td>\n",
       "      <td>오세아니아</td>\n",
       "      <td>OFF-LA-10000959</td>\n",
       "      <td>사무용품</td>\n",
       "      <td>레이블</td>\n",
       "      <td>Harbour Creations Round Labels, Alphabetical</td>\n",
       "      <td>6.570</td>\n",
       "      <td>1</td>\n",
       "      <td>0.00</td>\n",
       "      <td>0.630</td>\n",
       "    </tr>\n",
       "    <tr>\n",
       "      <th>10931</th>\n",
       "      <td>10999</td>\n",
       "      <td>ID-2019-83604</td>\n",
       "      <td>2019-08-29</td>\n",
       "      <td>2019-08-29</td>\n",
       "      <td>당일</td>\n",
       "      <td>PO-19195</td>\n",
       "      <td>Phillina Ober</td>\n",
       "      <td>홈 오피스</td>\n",
       "      <td>Rockhampton</td>\n",
       "      <td>Queensland</td>\n",
       "      <td>Australia</td>\n",
       "      <td>오세아니아</td>\n",
       "      <td>FUR-BO-10002866</td>\n",
       "      <td>가구</td>\n",
       "      <td>책장</td>\n",
       "      <td>Safco Classic Bookcase, Pine</td>\n",
       "      <td>1582.200</td>\n",
       "      <td>6</td>\n",
       "      <td>0.40</td>\n",
       "      <td>-870.300</td>\n",
       "    </tr>\n",
       "    <tr>\n",
       "      <th>10932</th>\n",
       "      <td>11000</td>\n",
       "      <td>ID-2019-83604</td>\n",
       "      <td>2019-08-29</td>\n",
       "      <td>2019-08-29</td>\n",
       "      <td>당일</td>\n",
       "      <td>PO-19195</td>\n",
       "      <td>Phillina Ober</td>\n",
       "      <td>홈 오피스</td>\n",
       "      <td>Rockhampton</td>\n",
       "      <td>Queensland</td>\n",
       "      <td>Australia</td>\n",
       "      <td>오세아니아</td>\n",
       "      <td>OFF-LA-10000793</td>\n",
       "      <td>사무용품</td>\n",
       "      <td>레이블</td>\n",
       "      <td>Harbour Creations Removable Labels, Laser Prin...</td>\n",
       "      <td>48.816</td>\n",
       "      <td>8</td>\n",
       "      <td>0.40</td>\n",
       "      <td>-6.624</td>\n",
       "    </tr>\n",
       "  </tbody>\n",
       "</table>\n",
       "<p>10933 rows × 20 columns</p>\n",
       "</div>"
      ],
      "text/plain": [
       "        행 ID          주문 ID      주문 날짜      배송 날짜  배송 형태     고객 ID  \\\n",
       "0          1  IN-2020-27828 2020-08-27 2020-08-31  표준 등급  VT-21700   \n",
       "1          2  IN-2020-27828 2020-08-27 2020-08-31  표준 등급  VT-21700   \n",
       "2          3  IN-2020-27828 2020-08-27 2020-08-31  표준 등급  VT-21700   \n",
       "3          4  IN-2020-27828 2020-08-27 2020-08-31  표준 등급  VT-21700   \n",
       "4          5  IN-2021-63178 2021-06-24 2021-06-30  표준 등급  SO-20335   \n",
       "...      ...            ...        ...        ...    ...       ...   \n",
       "10928  10996  IN-2020-82673 2020-09-11 2020-09-15  표준 등급  EM-13810   \n",
       "10929  10997  IN-2020-82673 2020-09-11 2020-09-15  표준 등급  EM-13810   \n",
       "10930  10998  IN-2020-82673 2020-09-11 2020-09-15  표준 등급  EM-13810   \n",
       "10931  10999  ID-2019-83604 2019-08-29 2019-08-29     당일  PO-19195   \n",
       "10932  11000  ID-2019-83604 2019-08-29 2019-08-29     당일  PO-19195   \n",
       "\n",
       "                  고객 이름    세그먼트           도시           시/도        국가/지역  \\\n",
       "0      Valerie Takahito   홈 오피스     Quanzhou        Fujian        China   \n",
       "1      Valerie Takahito   홈 오피스     Quanzhou        Fujian        China   \n",
       "2      Valerie Takahito   홈 오피스     Quanzhou        Fujian        China   \n",
       "3      Valerie Takahito   홈 오피스     Quanzhou        Fujian        China   \n",
       "4        Sean O'Donnell  일반 소비자     Marikina  Metro Manila  Philippines   \n",
       "...                 ...     ...          ...           ...          ...   \n",
       "10928     Eleni McCrary      기업   Wellington    Wellington  New Zealand   \n",
       "10929     Eleni McCrary      기업   Wellington    Wellington  New Zealand   \n",
       "10930     Eleni McCrary      기업   Wellington    Wellington  New Zealand   \n",
       "10931     Phillina Ober   홈 오피스  Rockhampton    Queensland    Australia   \n",
       "10932     Phillina Ober   홈 오피스  Rockhampton    Queensland    Australia   \n",
       "\n",
       "          지역            제품 ID    범주   하위 범주  \\\n",
       "0       북아시아  OFF-PA-10000026  사무용품      용지   \n",
       "1       북아시아  FUR-FU-10000944    가구  사무용 집기   \n",
       "2       북아시아  TEC-CO-10002526    기술     복사기   \n",
       "3       북아시아  TEC-AC-10002255    기술    액세서리   \n",
       "4      동남아시아  OFF-AP-10002882  사무용품   가전 제품   \n",
       "...      ...              ...   ...     ...   \n",
       "10928  오세아니아  OFF-ST-10004748  사무용품     보관함   \n",
       "10929  오세아니아  TEC-CO-10002678    기술     복사기   \n",
       "10930  오세아니아  OFF-LA-10000959  사무용품     레이블   \n",
       "10931  오세아니아  FUR-BO-10002866    가구      책장   \n",
       "10932  오세아니아  OFF-LA-10000793  사무용품     레이블   \n",
       "\n",
       "                                                   제품 이름        매출  수량   할인율  \\\n",
       "0                      Eaton Cards & Envelopes, 8.5 x 11   197.280   4  0.00   \n",
       "1                                 Tenex Door Stop, Black   307.230   7  0.00   \n",
       "2                            Sharp Wireless Fax, Digital  1422.240   4  0.00   \n",
       "3                            Memorex Keyboard, Erganomic   207.450   3  0.00   \n",
       "4                      KitchenAid Coffee Grinder, Silver   121.074   2  0.15   \n",
       "...                                                  ...       ...  ..   ...   \n",
       "10928                                Smead Lockers, Blue   396.840   2  0.00   \n",
       "10929                   Brother Wireless Fax, High-Speed  1508.040   4  0.00   \n",
       "10930       Harbour Creations Round Labels, Alphabetical     6.570   1  0.00   \n",
       "10931                       Safco Classic Bookcase, Pine  1582.200   6  0.40   \n",
       "10932  Harbour Creations Removable Labels, Laser Prin...    48.816   8  0.40   \n",
       "\n",
       "            수익  \n",
       "0       35.400  \n",
       "1       21.420  \n",
       "2      526.200  \n",
       "3       78.750  \n",
       "4       37.014  \n",
       "...        ...  \n",
       "10928   59.520  \n",
       "10929  437.280  \n",
       "10930    0.630  \n",
       "10931 -870.300  \n",
       "10932   -6.624  \n",
       "\n",
       "[10933 rows x 20 columns]"
      ]
     },
     "execution_count": 7,
     "metadata": {},
     "output_type": "execute_result"
    }
   ],
   "source": [
    "df_order = df_sheets_all['주문']\n",
    "df_order"
   ]
  },
  {
   "cell_type": "code",
   "execution_count": 8,
   "id": "fbd0d76b",
   "metadata": {
    "execution": {
     "iopub.execute_input": "2023-02-15T09:07:13.875919Z",
     "iopub.status.busy": "2023-02-15T09:07:13.875671Z",
     "iopub.status.idle": "2023-02-15T09:07:13.884667Z",
     "shell.execute_reply": "2023-02-15T09:07:13.884025Z",
     "shell.execute_reply.started": "2023-02-15T09:07:13.875896Z"
    }
   },
   "outputs": [
    {
     "data": {
      "text/html": [
       "<div>\n",
       "<style scoped>\n",
       "    .dataframe tbody tr th:only-of-type {\n",
       "        vertical-align: middle;\n",
       "    }\n",
       "\n",
       "    .dataframe tbody tr th {\n",
       "        vertical-align: top;\n",
       "    }\n",
       "\n",
       "    .dataframe thead th {\n",
       "        text-align: right;\n",
       "    }\n",
       "</style>\n",
       "<table border=\"1\" class=\"dataframe\">\n",
       "  <thead>\n",
       "    <tr style=\"text-align: right;\">\n",
       "      <th></th>\n",
       "      <th>주문 ID</th>\n",
       "      <th>반품</th>\n",
       "    </tr>\n",
       "  </thead>\n",
       "  <tbody>\n",
       "    <tr>\n",
       "      <th>0</th>\n",
       "      <td>ID-2018-17286</td>\n",
       "      <td>예</td>\n",
       "    </tr>\n",
       "    <tr>\n",
       "      <th>1</th>\n",
       "      <td>ID-2018-17286</td>\n",
       "      <td>예</td>\n",
       "    </tr>\n",
       "    <tr>\n",
       "      <th>2</th>\n",
       "      <td>ID-2018-20604</td>\n",
       "      <td>예</td>\n",
       "    </tr>\n",
       "    <tr>\n",
       "      <th>3</th>\n",
       "      <td>ID-2018-20604</td>\n",
       "      <td>예</td>\n",
       "    </tr>\n",
       "    <tr>\n",
       "      <th>4</th>\n",
       "      <td>ID-2018-20604</td>\n",
       "      <td>예</td>\n",
       "    </tr>\n",
       "    <tr>\n",
       "      <th>...</th>\n",
       "      <td>...</td>\n",
       "      <td>...</td>\n",
       "    </tr>\n",
       "    <tr>\n",
       "      <th>781</th>\n",
       "      <td>IN-2021-79593</td>\n",
       "      <td>예</td>\n",
       "    </tr>\n",
       "    <tr>\n",
       "      <th>782</th>\n",
       "      <td>IN-2021-84353</td>\n",
       "      <td>예</td>\n",
       "    </tr>\n",
       "    <tr>\n",
       "      <th>783</th>\n",
       "      <td>IN-2021-84948</td>\n",
       "      <td>예</td>\n",
       "    </tr>\n",
       "    <tr>\n",
       "      <th>784</th>\n",
       "      <td>IN-2021-84948</td>\n",
       "      <td>예</td>\n",
       "    </tr>\n",
       "    <tr>\n",
       "      <th>785</th>\n",
       "      <td>IN-2021-84948</td>\n",
       "      <td>예</td>\n",
       "    </tr>\n",
       "  </tbody>\n",
       "</table>\n",
       "<p>786 rows × 2 columns</p>\n",
       "</div>"
      ],
      "text/plain": [
       "             주문 ID 반품\n",
       "0    ID-2018-17286  예\n",
       "1    ID-2018-17286  예\n",
       "2    ID-2018-20604  예\n",
       "3    ID-2018-20604  예\n",
       "4    ID-2018-20604  예\n",
       "..             ... ..\n",
       "781  IN-2021-79593  예\n",
       "782  IN-2021-84353  예\n",
       "783  IN-2021-84948  예\n",
       "784  IN-2021-84948  예\n",
       "785  IN-2021-84948  예\n",
       "\n",
       "[786 rows x 2 columns]"
      ]
     },
     "execution_count": 8,
     "metadata": {},
     "output_type": "execute_result"
    }
   ],
   "source": [
    "df_return = df_sheets_all['반품 정리']\n",
    "df_return"
   ]
  },
  {
   "cell_type": "code",
   "execution_count": 9,
   "id": "7725ebb6",
   "metadata": {
    "execution": {
     "iopub.execute_input": "2023-02-15T09:07:14.356058Z",
     "iopub.status.busy": "2023-02-15T09:07:14.355793Z",
     "iopub.status.idle": "2023-02-15T09:07:14.363043Z",
     "shell.execute_reply": "2023-02-15T09:07:14.362342Z",
     "shell.execute_reply.started": "2023-02-15T09:07:14.356028Z"
    }
   },
   "outputs": [
    {
     "data": {
      "text/html": [
       "<div>\n",
       "<style scoped>\n",
       "    .dataframe tbody tr th:only-of-type {\n",
       "        vertical-align: middle;\n",
       "    }\n",
       "\n",
       "    .dataframe tbody tr th {\n",
       "        vertical-align: top;\n",
       "    }\n",
       "\n",
       "    .dataframe thead th {\n",
       "        text-align: right;\n",
       "    }\n",
       "</style>\n",
       "<table border=\"1\" class=\"dataframe\">\n",
       "  <thead>\n",
       "    <tr style=\"text-align: right;\">\n",
       "      <th></th>\n",
       "      <th>사람</th>\n",
       "      <th>지역</th>\n",
       "    </tr>\n",
       "  </thead>\n",
       "  <tbody>\n",
       "    <tr>\n",
       "      <th>0</th>\n",
       "      <td>Sanjit Engle</td>\n",
       "      <td>동남아시아</td>\n",
       "    </tr>\n",
       "    <tr>\n",
       "      <th>1</th>\n",
       "      <td>Maribeth Dona</td>\n",
       "      <td>중앙아시아</td>\n",
       "    </tr>\n",
       "    <tr>\n",
       "      <th>2</th>\n",
       "      <td>Alex Avila</td>\n",
       "      <td>북아시아</td>\n",
       "    </tr>\n",
       "    <tr>\n",
       "      <th>3</th>\n",
       "      <td>Nora Pelletier</td>\n",
       "      <td>오세아니아</td>\n",
       "    </tr>\n",
       "  </tbody>\n",
       "</table>\n",
       "</div>"
      ],
      "text/plain": [
       "               사람     지역\n",
       "0    Sanjit Engle  동남아시아\n",
       "1   Maribeth Dona  중앙아시아\n",
       "2      Alex Avila   북아시아\n",
       "3  Nora Pelletier  오세아니아"
      ]
     },
     "execution_count": 9,
     "metadata": {},
     "output_type": "execute_result"
    }
   ],
   "source": [
    "df_manager = df_sheets_all['인력']\n",
    "df_manager"
   ]
  },
  {
   "cell_type": "markdown",
   "id": "cfab4a87",
   "metadata": {
    "execution": {
     "iopub.execute_input": "2023-02-15T06:30:41.222816Z",
     "iopub.status.busy": "2023-02-15T06:30:41.222582Z",
     "iopub.status.idle": "2023-02-15T06:30:41.225572Z",
     "shell.execute_reply": "2023-02-15T06:30:41.224907Z",
     "shell.execute_reply.started": "2023-02-15T06:30:41.222794Z"
    }
   },
   "source": [
    "### 데이터 기본정보 확인"
   ]
  },
  {
   "cell_type": "code",
   "execution_count": 10,
   "id": "9a6b42c1",
   "metadata": {
    "execution": {
     "iopub.execute_input": "2023-02-15T09:07:15.053701Z",
     "iopub.status.busy": "2023-02-15T09:07:15.053450Z",
     "iopub.status.idle": "2023-02-15T09:07:15.071378Z",
     "shell.execute_reply": "2023-02-15T09:07:15.070707Z",
     "shell.execute_reply.started": "2023-02-15T09:07:15.053675Z"
    }
   },
   "outputs": [
    {
     "name": "stdout",
     "output_type": "stream",
     "text": [
      "<class 'pandas.core.frame.DataFrame'>\n",
      "RangeIndex: 10933 entries, 0 to 10932\n",
      "Data columns (total 20 columns):\n",
      " #   Column  Non-Null Count  Dtype         \n",
      "---  ------  --------------  -----         \n",
      " 0   행 ID    10933 non-null  int64         \n",
      " 1   주문 ID   10933 non-null  object        \n",
      " 2   주문 날짜   10933 non-null  datetime64[ns]\n",
      " 3   배송 날짜   10933 non-null  datetime64[ns]\n",
      " 4   배송 형태   10933 non-null  object        \n",
      " 5   고객 ID   10933 non-null  object        \n",
      " 6   고객 이름   10933 non-null  object        \n",
      " 7   세그먼트    10933 non-null  object        \n",
      " 8   도시      10933 non-null  object        \n",
      " 9   시/도     10933 non-null  object        \n",
      " 10  국가/지역   10933 non-null  object        \n",
      " 11  지역      10933 non-null  object        \n",
      " 12  제품 ID   10933 non-null  object        \n",
      " 13  범주      10933 non-null  object        \n",
      " 14  하위 범주   10933 non-null  object        \n",
      " 15  제품 이름   10933 non-null  object        \n",
      " 16  매출      10933 non-null  float64       \n",
      " 17  수량      10933 non-null  int64         \n",
      " 18  할인율     10933 non-null  float64       \n",
      " 19  수익      10933 non-null  float64       \n",
      "dtypes: datetime64[ns](2), float64(3), int64(2), object(13)\n",
      "memory usage: 1.7+ MB\n"
     ]
    }
   ],
   "source": [
    "df_order.info()"
   ]
  },
  {
   "cell_type": "markdown",
   "id": "120dc046",
   "metadata": {
    "execution": {
     "iopub.execute_input": "2023-02-15T06:31:51.484838Z",
     "iopub.status.busy": "2023-02-15T06:31:51.484551Z",
     "iopub.status.idle": "2023-02-15T06:31:51.487378Z",
     "shell.execute_reply": "2023-02-15T06:31:51.486833Z",
     "shell.execute_reply.started": "2023-02-15T06:31:51.484812Z"
    }
   },
   "source": [
    "### 통계치 확인 (연속형 데이터)"
   ]
  },
  {
   "cell_type": "markdown",
   "id": "0f867eaf",
   "metadata": {
    "execution": {
     "iopub.execute_input": "2023-02-15T06:44:14.602847Z",
     "iopub.status.busy": "2023-02-15T06:44:14.602609Z",
     "iopub.status.idle": "2023-02-15T06:44:14.605427Z",
     "shell.execute_reply": "2023-02-15T06:44:14.604831Z",
     "shell.execute_reply.started": "2023-02-15T06:44:14.602823Z"
    }
   },
   "source": [
    "#### [지표 목록]\n",
    "- 매출\n",
    "- 수량\n",
    "- 할인율\n",
    "- 수익"
   ]
  },
  {
   "cell_type": "code",
   "execution_count": 11,
   "id": "5f5fb60c",
   "metadata": {
    "execution": {
     "iopub.execute_input": "2023-02-15T09:07:15.585362Z",
     "iopub.status.busy": "2023-02-15T09:07:15.585101Z",
     "iopub.status.idle": "2023-02-15T09:07:15.608004Z",
     "shell.execute_reply": "2023-02-15T09:07:15.607408Z",
     "shell.execute_reply.started": "2023-02-15T09:07:15.585337Z"
    }
   },
   "outputs": [
    {
     "data": {
      "text/html": [
       "<div>\n",
       "<style scoped>\n",
       "    .dataframe tbody tr th:only-of-type {\n",
       "        vertical-align: middle;\n",
       "    }\n",
       "\n",
       "    .dataframe tbody tr th {\n",
       "        vertical-align: top;\n",
       "    }\n",
       "\n",
       "    .dataframe thead th {\n",
       "        text-align: right;\n",
       "    }\n",
       "</style>\n",
       "<table border=\"1\" class=\"dataframe\">\n",
       "  <thead>\n",
       "    <tr style=\"text-align: right;\">\n",
       "      <th></th>\n",
       "      <th>행 ID</th>\n",
       "      <th>매출</th>\n",
       "      <th>수량</th>\n",
       "      <th>할인율</th>\n",
       "      <th>수익</th>\n",
       "    </tr>\n",
       "  </thead>\n",
       "  <tbody>\n",
       "    <tr>\n",
       "      <th>count</th>\n",
       "      <td>10933.000000</td>\n",
       "      <td>10933.000000</td>\n",
       "      <td>10933.000000</td>\n",
       "      <td>10933.000000</td>\n",
       "      <td>10933.000000</td>\n",
       "    </tr>\n",
       "    <tr>\n",
       "      <th>mean</th>\n",
       "      <td>5501.108570</td>\n",
       "      <td>326.208731</td>\n",
       "      <td>3.752127</td>\n",
       "      <td>0.149724</td>\n",
       "      <td>39.518374</td>\n",
       "    </tr>\n",
       "    <tr>\n",
       "      <th>std</th>\n",
       "      <td>3179.318347</td>\n",
       "      <td>552.275866</td>\n",
       "      <td>2.260526</td>\n",
       "      <td>0.176511</td>\n",
       "      <td>170.856873</td>\n",
       "    </tr>\n",
       "    <tr>\n",
       "      <th>min</th>\n",
       "      <td>1.000000</td>\n",
       "      <td>2.880000</td>\n",
       "      <td>1.000000</td>\n",
       "      <td>0.000000</td>\n",
       "      <td>-3009.435000</td>\n",
       "    </tr>\n",
       "    <tr>\n",
       "      <th>25%</th>\n",
       "      <td>2747.000000</td>\n",
       "      <td>47.079900</td>\n",
       "      <td>2.000000</td>\n",
       "      <td>0.000000</td>\n",
       "      <td>-3.103200</td>\n",
       "    </tr>\n",
       "    <tr>\n",
       "      <th>50%</th>\n",
       "      <td>5493.000000</td>\n",
       "      <td>122.796000</td>\n",
       "      <td>3.000000</td>\n",
       "      <td>0.100000</td>\n",
       "      <td>10.830000</td>\n",
       "    </tr>\n",
       "    <tr>\n",
       "      <th>75%</th>\n",
       "      <td>8262.000000</td>\n",
       "      <td>348.300000</td>\n",
       "      <td>5.000000</td>\n",
       "      <td>0.270000</td>\n",
       "      <td>48.385500</td>\n",
       "    </tr>\n",
       "    <tr>\n",
       "      <th>max</th>\n",
       "      <td>11000.000000</td>\n",
       "      <td>6998.640000</td>\n",
       "      <td>14.000000</td>\n",
       "      <td>0.800000</td>\n",
       "      <td>2939.310000</td>\n",
       "    </tr>\n",
       "  </tbody>\n",
       "</table>\n",
       "</div>"
      ],
      "text/plain": [
       "               행 ID            매출            수량           할인율            수익\n",
       "count  10933.000000  10933.000000  10933.000000  10933.000000  10933.000000\n",
       "mean    5501.108570    326.208731      3.752127      0.149724     39.518374\n",
       "std     3179.318347    552.275866      2.260526      0.176511    170.856873\n",
       "min        1.000000      2.880000      1.000000      0.000000  -3009.435000\n",
       "25%     2747.000000     47.079900      2.000000      0.000000     -3.103200\n",
       "50%     5493.000000    122.796000      3.000000      0.100000     10.830000\n",
       "75%     8262.000000    348.300000      5.000000      0.270000     48.385500\n",
       "max    11000.000000   6998.640000     14.000000      0.800000   2939.310000"
      ]
     },
     "execution_count": 11,
     "metadata": {},
     "output_type": "execute_result"
    }
   ],
   "source": [
    "df_order.describe()"
   ]
  },
  {
   "cell_type": "markdown",
   "id": "8161288d",
   "metadata": {
    "execution": {
     "iopub.execute_input": "2023-02-15T06:33:09.212902Z",
     "iopub.status.busy": "2023-02-15T06:33:09.212657Z",
     "iopub.status.idle": "2023-02-15T06:33:09.215721Z",
     "shell.execute_reply": "2023-02-15T06:33:09.215051Z",
     "shell.execute_reply.started": "2023-02-15T06:33:09.212878Z"
    }
   },
   "source": [
    "### 통계치 확인 (범주형 데이터)"
   ]
  },
  {
   "cell_type": "markdown",
   "id": "37590dcc",
   "metadata": {
    "execution": {
     "iopub.execute_input": "2023-02-15T06:46:31.654728Z",
     "iopub.status.busy": "2023-02-15T06:46:31.654493Z",
     "iopub.status.idle": "2023-02-15T06:46:31.657487Z",
     "shell.execute_reply": "2023-02-15T06:46:31.656793Z",
     "shell.execute_reply.started": "2023-02-15T06:46:31.654706Z"
    }
   },
   "source": [
    "#### [관점 목록]\n",
    "- 배송 형태\n",
    "- 세그먼트\n",
    "- 고객 < 도시 < 시/도 < 국가/지역 < 지역\n",
    "- 제품 < 하위 범주 < 범주\n",
    "\n",
    "`+ 날짜 (주문, 배송)"
   ]
  },
  {
   "cell_type": "code",
   "execution_count": 12,
   "id": "646c84e9",
   "metadata": {
    "execution": {
     "iopub.execute_input": "2023-02-15T09:07:16.313281Z",
     "iopub.status.busy": "2023-02-15T09:07:16.313032Z",
     "iopub.status.idle": "2023-02-15T09:07:16.370109Z",
     "shell.execute_reply": "2023-02-15T09:07:16.369462Z",
     "shell.execute_reply.started": "2023-02-15T09:07:16.313255Z"
    }
   },
   "outputs": [
    {
     "data": {
      "text/html": [
       "<div>\n",
       "<style scoped>\n",
       "    .dataframe tbody tr th:only-of-type {\n",
       "        vertical-align: middle;\n",
       "    }\n",
       "\n",
       "    .dataframe tbody tr th {\n",
       "        vertical-align: top;\n",
       "    }\n",
       "\n",
       "    .dataframe thead th {\n",
       "        text-align: right;\n",
       "    }\n",
       "</style>\n",
       "<table border=\"1\" class=\"dataframe\">\n",
       "  <thead>\n",
       "    <tr style=\"text-align: right;\">\n",
       "      <th></th>\n",
       "      <th>주문 ID</th>\n",
       "      <th>배송 형태</th>\n",
       "      <th>고객 ID</th>\n",
       "      <th>고객 이름</th>\n",
       "      <th>세그먼트</th>\n",
       "      <th>도시</th>\n",
       "      <th>시/도</th>\n",
       "      <th>국가/지역</th>\n",
       "      <th>지역</th>\n",
       "      <th>제품 ID</th>\n",
       "      <th>범주</th>\n",
       "      <th>하위 범주</th>\n",
       "      <th>제품 이름</th>\n",
       "    </tr>\n",
       "  </thead>\n",
       "  <tbody>\n",
       "    <tr>\n",
       "      <th>count</th>\n",
       "      <td>10933</td>\n",
       "      <td>10933</td>\n",
       "      <td>10933</td>\n",
       "      <td>10933</td>\n",
       "      <td>10933</td>\n",
       "      <td>10933</td>\n",
       "      <td>10933</td>\n",
       "      <td>10933</td>\n",
       "      <td>10933</td>\n",
       "      <td>10933</td>\n",
       "      <td>10933</td>\n",
       "      <td>10933</td>\n",
       "      <td>10933</td>\n",
       "    </tr>\n",
       "    <tr>\n",
       "      <th>unique</th>\n",
       "      <td>5397</td>\n",
       "      <td>4</td>\n",
       "      <td>795</td>\n",
       "      <td>795</td>\n",
       "      <td>3</td>\n",
       "      <td>539</td>\n",
       "      <td>180</td>\n",
       "      <td>22</td>\n",
       "      <td>4</td>\n",
       "      <td>2720</td>\n",
       "      <td>3</td>\n",
       "      <td>17</td>\n",
       "      <td>1913</td>\n",
       "    </tr>\n",
       "    <tr>\n",
       "      <th>top</th>\n",
       "      <td>IN-2020-42311</td>\n",
       "      <td>표준 등급</td>\n",
       "      <td>JG-15805</td>\n",
       "      <td>John Grady</td>\n",
       "      <td>일반 소비자</td>\n",
       "      <td>Manila</td>\n",
       "      <td>New South Wales</td>\n",
       "      <td>Australia</td>\n",
       "      <td>오세아니아</td>\n",
       "      <td>OFF-SU-10001731</td>\n",
       "      <td>사무용품</td>\n",
       "      <td>의자</td>\n",
       "      <td>Stockwell Paper Clips, Assorted Sizes</td>\n",
       "    </tr>\n",
       "    <tr>\n",
       "      <th>freq</th>\n",
       "      <td>13</td>\n",
       "      <td>6622</td>\n",
       "      <td>40</td>\n",
       "      <td>40</td>\n",
       "      <td>5658</td>\n",
       "      <td>432</td>\n",
       "      <td>781</td>\n",
       "      <td>2837</td>\n",
       "      <td>3487</td>\n",
       "      <td>19</td>\n",
       "      <td>6137</td>\n",
       "      <td>964</td>\n",
       "      <td>26</td>\n",
       "    </tr>\n",
       "  </tbody>\n",
       "</table>\n",
       "</div>"
      ],
      "text/plain": [
       "                주문 ID  배송 형태     고객 ID       고객 이름    세그먼트      도시  \\\n",
       "count           10933  10933     10933       10933   10933   10933   \n",
       "unique           5397      4       795         795       3     539   \n",
       "top     IN-2020-42311  표준 등급  JG-15805  John Grady  일반 소비자  Manila   \n",
       "freq               13   6622        40          40    5658     432   \n",
       "\n",
       "                    시/도      국가/지역     지역            제품 ID     범주  하위 범주  \\\n",
       "count             10933      10933  10933            10933  10933  10933   \n",
       "unique              180         22      4             2720      3     17   \n",
       "top     New South Wales  Australia  오세아니아  OFF-SU-10001731   사무용품     의자   \n",
       "freq                781       2837   3487               19   6137    964   \n",
       "\n",
       "                                        제품 이름  \n",
       "count                                   10933  \n",
       "unique                                   1913  \n",
       "top     Stockwell Paper Clips, Assorted Sizes  \n",
       "freq                                       26  "
      ]
     },
     "execution_count": 12,
     "metadata": {},
     "output_type": "execute_result"
    }
   ],
   "source": [
    "df_order.describe(include = np.object_)"
   ]
  },
  {
   "cell_type": "markdown",
   "id": "fc6d5f74",
   "metadata": {
    "execution": {
     "iopub.execute_input": "2023-02-15T06:34:25.361517Z",
     "iopub.status.busy": "2023-02-15T06:34:25.361280Z",
     "iopub.status.idle": "2023-02-15T06:34:25.364690Z",
     "shell.execute_reply": "2023-02-15T06:34:25.363995Z",
     "shell.execute_reply.started": "2023-02-15T06:34:25.361494Z"
    }
   },
   "source": [
    "### 결측치 확인"
   ]
  },
  {
   "cell_type": "code",
   "execution_count": 13,
   "id": "3f378dc7",
   "metadata": {
    "execution": {
     "iopub.execute_input": "2023-02-15T09:07:16.649736Z",
     "iopub.status.busy": "2023-02-15T09:07:16.649499Z",
     "iopub.status.idle": "2023-02-15T09:07:16.661013Z",
     "shell.execute_reply": "2023-02-15T09:07:16.660265Z",
     "shell.execute_reply.started": "2023-02-15T09:07:16.649713Z"
    }
   },
   "outputs": [
    {
     "data": {
      "text/plain": [
       "행 ID     0\n",
       "주문 ID    0\n",
       "주문 날짜    0\n",
       "배송 날짜    0\n",
       "배송 형태    0\n",
       "고객 ID    0\n",
       "고객 이름    0\n",
       "세그먼트     0\n",
       "도시       0\n",
       "시/도      0\n",
       "국가/지역    0\n",
       "지역       0\n",
       "제품 ID    0\n",
       "범주       0\n",
       "하위 범주    0\n",
       "제품 이름    0\n",
       "매출       0\n",
       "수량       0\n",
       "할인율      0\n",
       "수익       0\n",
       "dtype: int64"
      ]
     },
     "execution_count": 13,
     "metadata": {},
     "output_type": "execute_result"
    }
   ],
   "source": [
    "df_order.isnull().sum()"
   ]
  },
  {
   "cell_type": "markdown",
   "id": "73a6fe82",
   "metadata": {
    "execution": {
     "iopub.execute_input": "2023-02-15T06:36:38.708028Z",
     "iopub.status.busy": "2023-02-15T06:36:38.707782Z",
     "iopub.status.idle": "2023-02-15T06:36:38.710584Z",
     "shell.execute_reply": "2023-02-15T06:36:38.710059Z",
     "shell.execute_reply.started": "2023-02-15T06:36:38.708005Z"
    }
   },
   "source": [
    "### 데이터 내용 정리"
   ]
  },
  {
   "cell_type": "code",
   "execution_count": 14,
   "id": "ca19bac9",
   "metadata": {
    "execution": {
     "iopub.execute_input": "2023-02-15T09:07:16.946266Z",
     "iopub.status.busy": "2023-02-15T09:07:16.946025Z",
     "iopub.status.idle": "2023-02-15T09:07:16.966050Z",
     "shell.execute_reply": "2023-02-15T09:07:16.965445Z",
     "shell.execute_reply.started": "2023-02-15T09:07:16.946243Z"
    }
   },
   "outputs": [
    {
     "name": "stdout",
     "output_type": "stream",
     "text": [
      "총 데이터 수:  218660\n",
      "총 결측치 수: 0 = 전체 데이터의 0.00%\n",
      "전체 주문 국가 수: 22\n",
      "전체 판매 물건 수: 2720\n"
     ]
    }
   ],
   "source": [
    "print(\"총 데이터 수: \", df_order.shape[0] * df_order.shape[1])\n",
    "print(\"총 결측치 수: {} = 전체 데이터의 {:.2f}%\".format(df_order.isnull().sum().sum(),\n",
    "                                                 (df_order.isnull().sum().sum()/(df_order.shape[0]*df_order.shape[1]))*100))\n",
    "print(\"전체 주문 국가 수:\", df_order[\"국가/지역\"].nunique())                            \n",
    "print(\"전체 판매 물건 수:\", df_order[\"제품 ID\"].nunique())"
   ]
  },
  {
   "cell_type": "markdown",
   "id": "525a6f5d",
   "metadata": {},
   "source": [
    "# 2. 기본 질의 및 확인"
   ]
  },
  {
   "cell_type": "markdown",
   "id": "effa43b2",
   "metadata": {
    "execution": {
     "iopub.execute_input": "2023-02-15T06:51:06.983660Z",
     "iopub.status.busy": "2023-02-15T06:51:06.983385Z",
     "iopub.status.idle": "2023-02-15T06:51:06.989420Z",
     "shell.execute_reply": "2023-02-15T06:51:06.988529Z",
     "shell.execute_reply.started": "2023-02-15T06:51:06.983635Z"
    }
   },
   "source": [
    "#### [지표 목록]\n",
    "- 매출\n",
    "- 수량\n",
    "- 할인율\n",
    "- 수익\n",
    "\n",
    "-+ 주문건수 -> 주문ID 로 집계\n",
    "\n",
    "-+ 제품 키워드 -> 제품명을 공백으로 분류 후 워드 임베딩\n",
    "\n",
    "#### [관점 목록]\n",
    "- 배송 형태\n",
    "- 세그먼트\n",
    "- 고객 < 도시 < 시/도 < 국가/지역 < 지역\n",
    "- 제품 < 하위 범주 < 범주\n",
    "\n",
    "`+ 날짜 (주문, 배송)"
   ]
  },
  {
   "cell_type": "code",
   "execution_count": 15,
   "id": "863b7d46",
   "metadata": {
    "execution": {
     "iopub.execute_input": "2023-02-15T09:07:17.449619Z",
     "iopub.status.busy": "2023-02-15T09:07:17.449377Z",
     "iopub.status.idle": "2023-02-15T09:07:17.453743Z",
     "shell.execute_reply": "2023-02-15T09:07:17.453189Z",
     "shell.execute_reply.started": "2023-02-15T09:07:17.449595Z"
    }
   },
   "outputs": [
    {
     "data": {
      "text/plain": [
       "Index(['행 ID', '주문 ID', '주문 날짜', '배송 날짜', '배송 형태', '고객 ID', '고객 이름', '세그먼트',\n",
       "       '도시', '시/도', '국가/지역', '지역', '제품 ID', '범주', '하위 범주', '제품 이름', '매출', '수량',\n",
       "       '할인율', '수익'],\n",
       "      dtype='object')"
      ]
     },
     "execution_count": 15,
     "metadata": {},
     "output_type": "execute_result"
    }
   ],
   "source": [
    "df_order.columns"
   ]
  },
  {
   "cell_type": "markdown",
   "id": "6e52094a",
   "metadata": {},
   "source": [
    "### 1) 제품 범주별 가격 분포"
   ]
  },
  {
   "cell_type": "markdown",
   "id": "624f547a",
   "metadata": {},
   "source": [
    "#### \"단일 제품 가격 = (매출 - 수익) / 수량\" 으로 계산"
   ]
  },
  {
   "cell_type": "code",
   "execution_count": 16,
   "id": "56ae7a6f",
   "metadata": {
    "execution": {
     "iopub.execute_input": "2023-02-15T09:07:18.232269Z",
     "iopub.status.busy": "2023-02-15T09:07:18.232013Z",
     "iopub.status.idle": "2023-02-15T09:07:18.236497Z",
     "shell.execute_reply": "2023-02-15T09:07:18.235960Z",
     "shell.execute_reply.started": "2023-02-15T09:07:18.232245Z"
    }
   },
   "outputs": [],
   "source": [
    "df_order['제품 가격'] = (\n",
    "    (df_order['매출'] - df_order['수익'])\n",
    "#     * (100 / (100 - df_order['할인율']) )\n",
    ") / df_order['수량']"
   ]
  },
  {
   "cell_type": "markdown",
   "id": "e808700d",
   "metadata": {},
   "source": [
    "#### (로직 검수용 체크)"
   ]
  },
  {
   "cell_type": "code",
   "execution_count": 17,
   "id": "2b657bce",
   "metadata": {
    "execution": {
     "iopub.execute_input": "2023-02-15T09:07:18.570607Z",
     "iopub.status.busy": "2023-02-15T09:07:18.570370Z",
     "iopub.status.idle": "2023-02-15T09:07:18.582848Z",
     "shell.execute_reply": "2023-02-15T09:07:18.582222Z",
     "shell.execute_reply.started": "2023-02-15T09:07:18.570584Z"
    }
   },
   "outputs": [
    {
     "data": {
      "text/html": [
       "<div>\n",
       "<style scoped>\n",
       "    .dataframe tbody tr th:only-of-type {\n",
       "        vertical-align: middle;\n",
       "    }\n",
       "\n",
       "    .dataframe tbody tr th {\n",
       "        vertical-align: top;\n",
       "    }\n",
       "\n",
       "    .dataframe thead th {\n",
       "        text-align: right;\n",
       "    }\n",
       "</style>\n",
       "<table border=\"1\" class=\"dataframe\">\n",
       "  <thead>\n",
       "    <tr style=\"text-align: right;\">\n",
       "      <th></th>\n",
       "      <th>제품 ID</th>\n",
       "      <th>제품 가격</th>\n",
       "    </tr>\n",
       "  </thead>\n",
       "  <tbody>\n",
       "    <tr>\n",
       "      <th>1</th>\n",
       "      <td>FUR-FU-10000944</td>\n",
       "      <td>40.83</td>\n",
       "    </tr>\n",
       "    <tr>\n",
       "      <th>3451</th>\n",
       "      <td>FUR-FU-10000944</td>\n",
       "      <td>40.83</td>\n",
       "    </tr>\n",
       "    <tr>\n",
       "      <th>6217</th>\n",
       "      <td>FUR-FU-10000944</td>\n",
       "      <td>40.83</td>\n",
       "    </tr>\n",
       "    <tr>\n",
       "      <th>7485</th>\n",
       "      <td>FUR-FU-10000944</td>\n",
       "      <td>40.83</td>\n",
       "    </tr>\n",
       "    <tr>\n",
       "      <th>8653</th>\n",
       "      <td>FUR-FU-10000944</td>\n",
       "      <td>40.83</td>\n",
       "    </tr>\n",
       "  </tbody>\n",
       "</table>\n",
       "</div>"
      ],
      "text/plain": [
       "                제품 ID  제품 가격\n",
       "1     FUR-FU-10000944  40.83\n",
       "3451  FUR-FU-10000944  40.83\n",
       "6217  FUR-FU-10000944  40.83\n",
       "7485  FUR-FU-10000944  40.83\n",
       "8653  FUR-FU-10000944  40.83"
      ]
     },
     "execution_count": 17,
     "metadata": {},
     "output_type": "execute_result"
    }
   ],
   "source": [
    "df_order[df_order['제품 ID'] == 'FUR-FU-10000944'][['제품 ID', '제품 가격']]"
   ]
  },
  {
   "cell_type": "code",
   "execution_count": 18,
   "id": "df744afd",
   "metadata": {
    "execution": {
     "iopub.execute_input": "2023-02-15T09:07:18.729475Z",
     "iopub.status.busy": "2023-02-15T09:07:18.729241Z",
     "iopub.status.idle": "2023-02-15T09:07:18.738799Z",
     "shell.execute_reply": "2023-02-15T09:07:18.738251Z",
     "shell.execute_reply.started": "2023-02-15T09:07:18.729452Z"
    }
   },
   "outputs": [
    {
     "data": {
      "text/html": [
       "<div>\n",
       "<style scoped>\n",
       "    .dataframe tbody tr th:only-of-type {\n",
       "        vertical-align: middle;\n",
       "    }\n",
       "\n",
       "    .dataframe tbody tr th {\n",
       "        vertical-align: top;\n",
       "    }\n",
       "\n",
       "    .dataframe thead th {\n",
       "        text-align: right;\n",
       "    }\n",
       "</style>\n",
       "<table border=\"1\" class=\"dataframe\">\n",
       "  <thead>\n",
       "    <tr style=\"text-align: right;\">\n",
       "      <th></th>\n",
       "      <th>제품 ID</th>\n",
       "      <th>제품 가격</th>\n",
       "    </tr>\n",
       "  </thead>\n",
       "  <tbody>\n",
       "    <tr>\n",
       "      <th>0</th>\n",
       "      <td>OFF-PA-10000026</td>\n",
       "      <td>40.47</td>\n",
       "    </tr>\n",
       "    <tr>\n",
       "      <th>2314</th>\n",
       "      <td>OFF-PA-10000026</td>\n",
       "      <td>40.47</td>\n",
       "    </tr>\n",
       "    <tr>\n",
       "      <th>5128</th>\n",
       "      <td>OFF-PA-10000026</td>\n",
       "      <td>40.47</td>\n",
       "    </tr>\n",
       "    <tr>\n",
       "      <th>5401</th>\n",
       "      <td>OFF-PA-10000026</td>\n",
       "      <td>40.47</td>\n",
       "    </tr>\n",
       "  </tbody>\n",
       "</table>\n",
       "</div>"
      ],
      "text/plain": [
       "                제품 ID  제품 가격\n",
       "0     OFF-PA-10000026  40.47\n",
       "2314  OFF-PA-10000026  40.47\n",
       "5128  OFF-PA-10000026  40.47\n",
       "5401  OFF-PA-10000026  40.47"
      ]
     },
     "execution_count": 18,
     "metadata": {},
     "output_type": "execute_result"
    }
   ],
   "source": [
    "df_order[df_order['제품 ID'] == 'OFF-PA-10000026'][['제품 ID', '제품 가격']]"
   ]
  },
  {
   "cell_type": "code",
   "execution_count": 19,
   "id": "5a11318c",
   "metadata": {
    "execution": {
     "iopub.execute_input": "2023-02-15T09:07:18.890466Z",
     "iopub.status.busy": "2023-02-15T09:07:18.890229Z",
     "iopub.status.idle": "2023-02-15T09:07:18.912367Z",
     "shell.execute_reply": "2023-02-15T09:07:18.911734Z",
     "shell.execute_reply.started": "2023-02-15T09:07:18.890443Z"
    }
   },
   "outputs": [
    {
     "data": {
      "text/html": [
       "<div>\n",
       "<style scoped>\n",
       "    .dataframe tbody tr th:only-of-type {\n",
       "        vertical-align: middle;\n",
       "    }\n",
       "\n",
       "    .dataframe tbody tr th {\n",
       "        vertical-align: top;\n",
       "    }\n",
       "\n",
       "    .dataframe thead th {\n",
       "        text-align: right;\n",
       "    }\n",
       "</style>\n",
       "<table border=\"1\" class=\"dataframe\">\n",
       "  <thead>\n",
       "    <tr style=\"text-align: right;\">\n",
       "      <th></th>\n",
       "      <th></th>\n",
       "      <th></th>\n",
       "      <th>제품 가격</th>\n",
       "    </tr>\n",
       "    <tr>\n",
       "      <th>범주</th>\n",
       "      <th>하위 범주</th>\n",
       "      <th>제품 ID</th>\n",
       "      <th></th>\n",
       "    </tr>\n",
       "  </thead>\n",
       "  <tbody>\n",
       "    <tr>\n",
       "      <th rowspan=\"5\" valign=\"top\">가구</th>\n",
       "      <th rowspan=\"5\" valign=\"top\">사무용 집기</th>\n",
       "      <th>FUR-FU-10000018</th>\n",
       "      <td>27.57</td>\n",
       "    </tr>\n",
       "    <tr>\n",
       "      <th>FUR-FU-10000067</th>\n",
       "      <td>26.97</td>\n",
       "    </tr>\n",
       "    <tr>\n",
       "      <th>FUR-FU-10000069</th>\n",
       "      <td>36.03</td>\n",
       "    </tr>\n",
       "    <tr>\n",
       "      <th>FUR-FU-10000256</th>\n",
       "      <td>26.97</td>\n",
       "    </tr>\n",
       "    <tr>\n",
       "      <th>FUR-FU-10000306</th>\n",
       "      <td>47.22</td>\n",
       "    </tr>\n",
       "    <tr>\n",
       "      <th>...</th>\n",
       "      <th>...</th>\n",
       "      <th>...</th>\n",
       "      <td>...</td>\n",
       "    </tr>\n",
       "    <tr>\n",
       "      <th rowspan=\"5\" valign=\"top\">사무용품</th>\n",
       "      <th rowspan=\"5\" valign=\"top\">잠금장치</th>\n",
       "      <th>OFF-FA-10004739</th>\n",
       "      <td>9.69</td>\n",
       "    </tr>\n",
       "    <tr>\n",
       "      <th>OFF-FA-10004795</th>\n",
       "      <td>11.31</td>\n",
       "    </tr>\n",
       "    <tr>\n",
       "      <th>OFF-FA-10004813</th>\n",
       "      <td>12.42</td>\n",
       "    </tr>\n",
       "    <tr>\n",
       "      <th>OFF-FA-10004839</th>\n",
       "      <td>13.47</td>\n",
       "    </tr>\n",
       "    <tr>\n",
       "      <th>OFF-FA-10004910</th>\n",
       "      <td>7.74</td>\n",
       "    </tr>\n",
       "  </tbody>\n",
       "</table>\n",
       "<p>2720 rows × 1 columns</p>\n",
       "</div>"
      ],
      "text/plain": [
       "                             제품 가격\n",
       "범주   하위 범주  제품 ID                 \n",
       "가구   사무용 집기 FUR-FU-10000018  27.57\n",
       "            FUR-FU-10000067  26.97\n",
       "            FUR-FU-10000069  36.03\n",
       "            FUR-FU-10000256  26.97\n",
       "            FUR-FU-10000306  47.22\n",
       "...                            ...\n",
       "사무용품 잠금장치   OFF-FA-10004739   9.69\n",
       "            OFF-FA-10004795  11.31\n",
       "            OFF-FA-10004813  12.42\n",
       "            OFF-FA-10004839  13.47\n",
       "            OFF-FA-10004910   7.74\n",
       "\n",
       "[2720 rows x 1 columns]"
      ]
     },
     "execution_count": 19,
     "metadata": {},
     "output_type": "execute_result"
    }
   ],
   "source": [
    "df_product = pd.DataFrame(\n",
    "    df_order.groupby(['범주', '하위 범주', '제품 ID']).mean()['제품 가격']\n",
    ")\n",
    "df_product"
   ]
  },
  {
   "cell_type": "code",
   "execution_count": 20,
   "id": "db190be5",
   "metadata": {
    "execution": {
     "iopub.execute_input": "2023-02-15T09:07:19.051817Z",
     "iopub.status.busy": "2023-02-15T09:07:19.051525Z",
     "iopub.status.idle": "2023-02-15T09:07:19.066132Z",
     "shell.execute_reply": "2023-02-15T09:07:19.065517Z",
     "shell.execute_reply.started": "2023-02-15T09:07:19.051793Z"
    }
   },
   "outputs": [
    {
     "data": {
      "text/html": [
       "<div>\n",
       "<style scoped>\n",
       "    .dataframe tbody tr th:only-of-type {\n",
       "        vertical-align: middle;\n",
       "    }\n",
       "\n",
       "    .dataframe tbody tr th {\n",
       "        vertical-align: top;\n",
       "    }\n",
       "\n",
       "    .dataframe thead th {\n",
       "        text-align: right;\n",
       "    }\n",
       "</style>\n",
       "<table border=\"1\" class=\"dataframe\">\n",
       "  <thead>\n",
       "    <tr style=\"text-align: right;\">\n",
       "      <th></th>\n",
       "      <th></th>\n",
       "      <th>제품 가격</th>\n",
       "    </tr>\n",
       "    <tr>\n",
       "      <th>범주</th>\n",
       "      <th>하위 범주</th>\n",
       "      <th></th>\n",
       "    </tr>\n",
       "  </thead>\n",
       "  <tbody>\n",
       "    <tr>\n",
       "      <th rowspan=\"4\" valign=\"top\">가구</th>\n",
       "      <th>사무용 집기</th>\n",
       "      <td>35.444581</td>\n",
       "    </tr>\n",
       "    <tr>\n",
       "      <th>의자</th>\n",
       "      <td>127.232241</td>\n",
       "    </tr>\n",
       "    <tr>\n",
       "      <th>책장</th>\n",
       "      <td>184.891117</td>\n",
       "    </tr>\n",
       "    <tr>\n",
       "      <th>테이블</th>\n",
       "      <td>360.715079</td>\n",
       "    </tr>\n",
       "    <tr>\n",
       "      <th rowspan=\"4\" valign=\"top\">기술</th>\n",
       "      <th>복사기</th>\n",
       "      <td>171.347149</td>\n",
       "    </tr>\n",
       "    <tr>\n",
       "      <th>사무기기</th>\n",
       "      <td>122.810907</td>\n",
       "    </tr>\n",
       "    <tr>\n",
       "      <th>액세서리</th>\n",
       "      <td>66.307879</td>\n",
       "    </tr>\n",
       "    <tr>\n",
       "      <th>전화기</th>\n",
       "      <td>153.783499</td>\n",
       "    </tr>\n",
       "    <tr>\n",
       "      <th rowspan=\"9\" valign=\"top\">사무용품</th>\n",
       "      <th>가전 제품</th>\n",
       "      <td>197.134349</td>\n",
       "    </tr>\n",
       "    <tr>\n",
       "      <th>레이블</th>\n",
       "      <td>7.094180</td>\n",
       "    </tr>\n",
       "    <tr>\n",
       "      <th>미술용품</th>\n",
       "      <td>23.269532</td>\n",
       "    </tr>\n",
       "    <tr>\n",
       "      <th>바인더</th>\n",
       "      <td>14.935585</td>\n",
       "    </tr>\n",
       "    <tr>\n",
       "      <th>보관함</th>\n",
       "      <td>60.557139</td>\n",
       "    </tr>\n",
       "    <tr>\n",
       "      <th>봉투</th>\n",
       "      <td>19.953194</td>\n",
       "    </tr>\n",
       "    <tr>\n",
       "      <th>사무용품</th>\n",
       "      <td>25.201319</td>\n",
       "    </tr>\n",
       "    <tr>\n",
       "      <th>용지</th>\n",
       "      <td>20.336389</td>\n",
       "    </tr>\n",
       "    <tr>\n",
       "      <th>잠금장치</th>\n",
       "      <td>10.667534</td>\n",
       "    </tr>\n",
       "  </tbody>\n",
       "</table>\n",
       "</div>"
      ],
      "text/plain": [
       "                  제품 가격\n",
       "범주   하위 범주             \n",
       "가구   사무용 집기   35.444581\n",
       "     의자      127.232241\n",
       "     책장      184.891117\n",
       "     테이블     360.715079\n",
       "기술   복사기     171.347149\n",
       "     사무기기    122.810907\n",
       "     액세서리     66.307879\n",
       "     전화기     153.783499\n",
       "사무용품 가전 제품   197.134349\n",
       "     레이블       7.094180\n",
       "     미술용품     23.269532\n",
       "     바인더      14.935585\n",
       "     보관함      60.557139\n",
       "     봉투       19.953194\n",
       "     사무용품     25.201319\n",
       "     용지       20.336389\n",
       "     잠금장치     10.667534"
      ]
     },
     "execution_count": 20,
     "metadata": {},
     "output_type": "execute_result"
    }
   ],
   "source": [
    "df_product_group = pd.DataFrame(\n",
    "    df_order.groupby(['범주', '하위 범주']).mean()['제품 가격']\n",
    ")\n",
    "df_product_group"
   ]
  },
  {
   "cell_type": "code",
   "execution_count": 21,
   "id": "74ac8134",
   "metadata": {
    "execution": {
     "iopub.execute_input": "2023-02-15T09:07:19.220173Z",
     "iopub.status.busy": "2023-02-15T09:07:19.219934Z",
     "iopub.status.idle": "2023-02-15T09:07:19.452959Z",
     "shell.execute_reply": "2023-02-15T09:07:19.452276Z",
     "shell.execute_reply.started": "2023-02-15T09:07:19.220150Z"
    }
   },
   "outputs": [
    {
     "data": {
      "image/png": "[encoded data removed]",
      "text/plain": [
       "<Figure size 1440x576 with 1 Axes>"
      ]
     },
     "metadata": {
      "needs_background": "light"
     },
     "output_type": "display_data"
    }
   ],
   "source": [
    "df_product_group = df_product_group.reset_index()\n",
    "\n",
    "group_main = '범주'\n",
    "group_main_list = ['가구', '기술', '사무용품']\n",
    "group_sub = '하위 범주'\n",
    "group_value = '제품 가격'\n",
    "\n",
    "plt.figure(figsize=(20, 8))\n",
    "plt_xtick = []\n",
    "\n",
    "for gm in group_main_list:\n",
    "    plt.bar(\n",
    "        data   = df_product_group.loc[df_product_group[group_main] == gm], \n",
    "        x      = df_product_group.loc[df_product_group[group_main] == gm].index, \n",
    "        height = group_value, \n",
    "        label  = gm\n",
    "    )\n",
    "    plt_xtick += list(df_product_group.loc[df_product_group[group_main] == gm].index)\n",
    "    \n",
    "plt.title('제품 범주별 가격 분포', fontsize=20)\n",
    "plt.xticks(fontsize=16)\n",
    "plt.xticks(plt_xtick, list(df_product_group[group_sub]))\n",
    "plt.yticks(fontsize=16)\n",
    "plt.legend(fontsize=16)\n",
    "\n",
    "plt.show()"
   ]
  },
  {
   "cell_type": "markdown",
   "id": "06b07277",
   "metadata": {},
   "source": [
    "### 2) 국가별 고객수 / 주문건수"
   ]
  },
  {
   "cell_type": "code",
   "execution_count": 22,
   "id": "9dc1d6e5",
   "metadata": {
    "execution": {
     "iopub.execute_input": "2023-02-15T09:07:19.736954Z",
     "iopub.status.busy": "2023-02-15T09:07:19.736703Z",
     "iopub.status.idle": "2023-02-15T09:07:19.767120Z",
     "shell.execute_reply": "2023-02-15T09:07:19.766472Z",
     "shell.execute_reply.started": "2023-02-15T09:07:19.736929Z"
    }
   },
   "outputs": [
    {
     "data": {
      "text/html": [
       "<div>\n",
       "<style scoped>\n",
       "    .dataframe tbody tr th:only-of-type {\n",
       "        vertical-align: middle;\n",
       "    }\n",
       "\n",
       "    .dataframe tbody tr th {\n",
       "        vertical-align: top;\n",
       "    }\n",
       "\n",
       "    .dataframe thead th {\n",
       "        text-align: right;\n",
       "    }\n",
       "</style>\n",
       "<table border=\"1\" class=\"dataframe\">\n",
       "  <thead>\n",
       "    <tr style=\"text-align: right;\">\n",
       "      <th></th>\n",
       "      <th></th>\n",
       "      <th></th>\n",
       "      <th></th>\n",
       "      <th></th>\n",
       "      <th>주문 ID</th>\n",
       "    </tr>\n",
       "    <tr>\n",
       "      <th>지역</th>\n",
       "      <th>국가/지역</th>\n",
       "      <th>시/도</th>\n",
       "      <th>도시</th>\n",
       "      <th>고객 ID</th>\n",
       "      <th></th>\n",
       "    </tr>\n",
       "  </thead>\n",
       "  <tbody>\n",
       "    <tr>\n",
       "      <th rowspan=\"5\" valign=\"top\">동남아시아</th>\n",
       "      <th rowspan=\"5\" valign=\"top\">Cambodia</th>\n",
       "      <th rowspan=\"5\" valign=\"top\">Phnom Penh</th>\n",
       "      <th rowspan=\"5\" valign=\"top\">Phnom Penh</th>\n",
       "      <th>AB-10600</th>\n",
       "      <td>1</td>\n",
       "    </tr>\n",
       "    <tr>\n",
       "      <th>BW-11110</th>\n",
       "      <td>1</td>\n",
       "    </tr>\n",
       "    <tr>\n",
       "      <th>CD-11920</th>\n",
       "      <td>1</td>\n",
       "    </tr>\n",
       "    <tr>\n",
       "      <th>CH-12070</th>\n",
       "      <td>1</td>\n",
       "    </tr>\n",
       "    <tr>\n",
       "      <th>CM-12445</th>\n",
       "      <td>1</td>\n",
       "    </tr>\n",
       "    <tr>\n",
       "      <th>...</th>\n",
       "      <th>...</th>\n",
       "      <th>...</th>\n",
       "      <th>...</th>\n",
       "      <th>...</th>\n",
       "      <td>...</td>\n",
       "    </tr>\n",
       "    <tr>\n",
       "      <th rowspan=\"5\" valign=\"top\">중앙아시아</th>\n",
       "      <th>Pakistan</th>\n",
       "      <th>Sindh</th>\n",
       "      <th>Sukkur</th>\n",
       "      <th>SJ-20500</th>\n",
       "      <td>1</td>\n",
       "    </tr>\n",
       "    <tr>\n",
       "      <th rowspan=\"4\" valign=\"top\">Sri Lanka</th>\n",
       "      <th rowspan=\"4\" valign=\"top\">Western</th>\n",
       "      <th rowspan=\"4\" valign=\"top\">Colombo</th>\n",
       "      <th>DE-13255</th>\n",
       "      <td>1</td>\n",
       "    </tr>\n",
       "    <tr>\n",
       "      <th>Dl-13600</th>\n",
       "      <td>1</td>\n",
       "    </tr>\n",
       "    <tr>\n",
       "      <th>FW-14395</th>\n",
       "      <td>1</td>\n",
       "    </tr>\n",
       "    <tr>\n",
       "      <th>MA-17995</th>\n",
       "      <td>1</td>\n",
       "    </tr>\n",
       "  </tbody>\n",
       "</table>\n",
       "<p>5221 rows × 1 columns</p>\n",
       "</div>"
      ],
      "text/plain": [
       "                                                주문 ID\n",
       "지역    국가/지역     시/도        도시         고객 ID          \n",
       "동남아시아 Cambodia  Phnom Penh Phnom Penh AB-10600      1\n",
       "                                      BW-11110      1\n",
       "                                      CD-11920      1\n",
       "                                      CH-12070      1\n",
       "                                      CM-12445      1\n",
       "...                                               ...\n",
       "중앙아시아 Pakistan  Sindh      Sukkur     SJ-20500      1\n",
       "      Sri Lanka Western    Colombo    DE-13255      1\n",
       "                                      Dl-13600      1\n",
       "                                      FW-14395      1\n",
       "                                      MA-17995      1\n",
       "\n",
       "[5221 rows x 1 columns]"
      ]
     },
     "execution_count": 22,
     "metadata": {},
     "output_type": "execute_result"
    }
   ],
   "source": [
    "df_customor_order_count_dup_chk = df_order[['지역', '국가/지역', '시/도', '도시', '고객 ID', '주문 ID']].duplicated()\n",
    "df_customor_order_count = pd.DataFrame(\n",
    "    df_order[~df_customor_order_count_dup_chk].groupby(['지역', '국가/지역', '시/도', '도시', '고객 ID',])['주문 ID'].count()\n",
    ")\n",
    "df_customor_order_count"
   ]
  },
  {
   "cell_type": "code",
   "execution_count": 23,
   "id": "7d1b8485",
   "metadata": {
    "execution": {
     "iopub.execute_input": "2023-02-15T09:07:20.433371Z",
     "iopub.status.busy": "2023-02-15T09:07:20.433125Z",
     "iopub.status.idle": "2023-02-15T09:07:20.438628Z",
     "shell.execute_reply": "2023-02-15T09:07:20.438104Z",
     "shell.execute_reply.started": "2023-02-15T09:07:20.433348Z"
    }
   },
   "outputs": [
    {
     "data": {
      "text/plain": [
       "170"
      ]
     },
     "execution_count": 23,
     "metadata": {},
     "output_type": "execute_result"
    }
   ],
   "source": [
    "# 재주문한 고객수\n",
    "len(df_customor_order_count[df_customor_order_count['주문 ID'] > 1])"
   ]
  },
  {
   "cell_type": "code",
   "execution_count": 24,
   "id": "b5b5c938",
   "metadata": {
    "execution": {
     "iopub.execute_input": "2023-02-15T09:07:21.116045Z",
     "iopub.status.busy": "2023-02-15T09:07:21.115793Z",
     "iopub.status.idle": "2023-02-15T09:07:21.139014Z",
     "shell.execute_reply": "2023-02-15T09:07:21.138473Z",
     "shell.execute_reply.started": "2023-02-15T09:07:21.116021Z"
    }
   },
   "outputs": [],
   "source": [
    "df_customor_order_count_city    = pd.DataFrame(df_customor_order_count.groupby(['지역', '국가/지역', '시/도', '도시'])['주문 ID'].sum())\n",
    "df_customor_order_count_state   = pd.DataFrame(df_customor_order_count.groupby(['지역', '국가/지역', '시/도'])['주문 ID'].sum())\n",
    "df_customor_order_count_country = pd.DataFrame(df_customor_order_count.groupby(['지역', '국가/지역'])['주문 ID'].sum())\n",
    "df_customor_order_count_region  = pd.DataFrame(df_customor_order_count.groupby(['지역'])['주문 ID'].sum())\n",
    "\n",
    "df_customor_count_city    = pd.DataFrame(df_customor_order_count.groupby(['지역', '국가/지역', '시/도', '도시'])['주문 ID'].count())\n",
    "df_customor_count_state   = pd.DataFrame(df_customor_order_count.groupby(['지역', '국가/지역', '시/도'])['주문 ID'].count())\n",
    "df_customor_count_country = pd.DataFrame(df_customor_order_count.groupby(['지역', '국가/지역'])['주문 ID'].count())\n",
    "df_customor_count_region  = pd.DataFrame(df_customor_order_count.groupby(['지역'])['주문 ID'].count())"
   ]
  },
  {
   "cell_type": "code",
   "execution_count": 25,
   "id": "9f17b93c",
   "metadata": {
    "execution": {
     "iopub.execute_input": "2023-02-15T09:07:21.320467Z",
     "iopub.status.busy": "2023-02-15T09:07:21.320226Z",
     "iopub.status.idle": "2023-02-15T09:07:21.328690Z",
     "shell.execute_reply": "2023-02-15T09:07:21.328056Z",
     "shell.execute_reply.started": "2023-02-15T09:07:21.320443Z"
    }
   },
   "outputs": [
    {
     "data": {
      "text/html": [
       "<div>\n",
       "<style scoped>\n",
       "    .dataframe tbody tr th:only-of-type {\n",
       "        vertical-align: middle;\n",
       "    }\n",
       "\n",
       "    .dataframe tbody tr th {\n",
       "        vertical-align: top;\n",
       "    }\n",
       "\n",
       "    .dataframe thead th {\n",
       "        text-align: right;\n",
       "    }\n",
       "</style>\n",
       "<table border=\"1\" class=\"dataframe\">\n",
       "  <thead>\n",
       "    <tr style=\"text-align: right;\">\n",
       "      <th></th>\n",
       "      <th>주문 건수</th>\n",
       "    </tr>\n",
       "    <tr>\n",
       "      <th>지역</th>\n",
       "      <th></th>\n",
       "    </tr>\n",
       "  </thead>\n",
       "  <tbody>\n",
       "    <tr>\n",
       "      <th>동남아시아</th>\n",
       "      <td>1516</td>\n",
       "    </tr>\n",
       "    <tr>\n",
       "      <th>북아시아</th>\n",
       "      <td>1148</td>\n",
       "    </tr>\n",
       "    <tr>\n",
       "      <th>오세아니아</th>\n",
       "      <td>1744</td>\n",
       "    </tr>\n",
       "    <tr>\n",
       "      <th>중앙아시아</th>\n",
       "      <td>989</td>\n",
       "    </tr>\n",
       "  </tbody>\n",
       "</table>\n",
       "</div>"
      ],
      "text/plain": [
       "       주문 건수\n",
       "지역          \n",
       "동남아시아   1516\n",
       "북아시아    1148\n",
       "오세아니아   1744\n",
       "중앙아시아    989"
      ]
     },
     "execution_count": 25,
     "metadata": {},
     "output_type": "execute_result"
    }
   ],
   "source": [
    "df_customor_order_count_region.columns = ['주문 건수']\n",
    "df_customor_order_count_region"
   ]
  },
  {
   "cell_type": "code",
   "execution_count": 26,
   "id": "f55916da",
   "metadata": {
    "execution": {
     "iopub.execute_input": "2023-02-15T09:07:21.489624Z",
     "iopub.status.busy": "2023-02-15T09:07:21.489387Z",
     "iopub.status.idle": "2023-02-15T09:07:21.496167Z",
     "shell.execute_reply": "2023-02-15T09:07:21.495455Z",
     "shell.execute_reply.started": "2023-02-15T09:07:21.489601Z"
    }
   },
   "outputs": [
    {
     "data": {
      "text/html": [
       "<div>\n",
       "<style scoped>\n",
       "    .dataframe tbody tr th:only-of-type {\n",
       "        vertical-align: middle;\n",
       "    }\n",
       "\n",
       "    .dataframe tbody tr th {\n",
       "        vertical-align: top;\n",
       "    }\n",
       "\n",
       "    .dataframe thead th {\n",
       "        text-align: right;\n",
       "    }\n",
       "</style>\n",
       "<table border=\"1\" class=\"dataframe\">\n",
       "  <thead>\n",
       "    <tr style=\"text-align: right;\">\n",
       "      <th></th>\n",
       "      <th>고객수</th>\n",
       "    </tr>\n",
       "    <tr>\n",
       "      <th>지역</th>\n",
       "      <th></th>\n",
       "    </tr>\n",
       "  </thead>\n",
       "  <tbody>\n",
       "    <tr>\n",
       "      <th>동남아시아</th>\n",
       "      <td>1439</td>\n",
       "    </tr>\n",
       "    <tr>\n",
       "      <th>북아시아</th>\n",
       "      <td>1140</td>\n",
       "    </tr>\n",
       "    <tr>\n",
       "      <th>오세아니아</th>\n",
       "      <td>1665</td>\n",
       "    </tr>\n",
       "    <tr>\n",
       "      <th>중앙아시아</th>\n",
       "      <td>977</td>\n",
       "    </tr>\n",
       "  </tbody>\n",
       "</table>\n",
       "</div>"
      ],
      "text/plain": [
       "        고객수\n",
       "지역         \n",
       "동남아시아  1439\n",
       "북아시아   1140\n",
       "오세아니아  1665\n",
       "중앙아시아   977"
      ]
     },
     "execution_count": 26,
     "metadata": {},
     "output_type": "execute_result"
    }
   ],
   "source": [
    "df_customor_count_region.columns = ['고객수']\n",
    "df_customor_count_region"
   ]
  },
  {
   "cell_type": "code",
   "execution_count": 41,
   "id": "671ec1e2",
   "metadata": {
    "execution": {
     "iopub.execute_input": "2023-02-15T09:10:15.995647Z",
     "iopub.status.busy": "2023-02-15T09:10:15.995367Z",
     "iopub.status.idle": "2023-02-15T09:10:16.234928Z",
     "shell.execute_reply": "2023-02-15T09:10:16.234252Z",
     "shell.execute_reply.started": "2023-02-15T09:10:15.995584Z"
    }
   },
   "outputs": [
    {
     "name": "stdout",
     "output_type": "stream",
     "text": [
      "Index(['동남아시아', '북아시아', '오세아니아', '중앙아시아'], dtype='object', name='지역') 주문 건수\n"
     ]
    },
    {
     "data": {
      "image/png": "[encoded data removed]",
      "text/plain": [
       "<Figure size 1440x576 with 1 Axes>"
      ]
     },
     "metadata": {
      "needs_background": "light"
     },
     "output_type": "display_data"
    },
    {
     "name": "stdout",
     "output_type": "stream",
     "text": [
      "Index(['동남아시아', '북아시아', '오세아니아', '중앙아시아'], dtype='object', name='지역') 고객수\n"
     ]
    },
    {
     "data": {
      "image/png": "[encoded data removed]",
      "text/plain": [
       "<Figure size 1440x576 with 1 Axes>"
      ]
     },
     "metadata": {
      "needs_background": "light"
     },
     "output_type": "display_data"
    }
   ],
   "source": [
    "for df in [df_customor_order_count_region, df_customor_count_region]:\n",
    "    plt.figure(figsize=(20, 8))\n",
    "    \n",
    "    plt.bar(\n",
    "        data   = df, \n",
    "        x      = df.index, \n",
    "        height = df.columns[0]\n",
    "    )\n",
    "#     print(df.index, df.columns[0])\n",
    "\n",
    "    plt.title(f'{df.index.name}별 {df.columns[0]}', fontsize=20)\n",
    "    plt.xticks(fontsize=16)\n",
    "    plt.yticks(fontsize=16)\n",
    "\n",
    "    plt.show()"
   ]
  },
  {
   "cell_type": "code",
   "execution_count": 28,
   "id": "2100ae1f",
   "metadata": {
    "execution": {
     "iopub.execute_input": "2023-02-15T09:07:23.272732Z",
     "iopub.status.busy": "2023-02-15T09:07:23.272493Z",
     "iopub.status.idle": "2023-02-15T09:07:23.276382Z",
     "shell.execute_reply": "2023-02-15T09:07:23.275666Z",
     "shell.execute_reply.started": "2023-02-15T09:07:23.272709Z"
    }
   },
   "outputs": [],
   "source": [
    "df_customor_order_count_country.columns = ['주문 건수']\n",
    "df_customor_count_country.columns = ['고객수']"
   ]
  },
  {
   "cell_type": "code",
   "execution_count": 29,
   "id": "68bef0f8",
   "metadata": {
    "execution": {
     "iopub.execute_input": "2023-02-15T09:07:23.818908Z",
     "iopub.status.busy": "2023-02-15T09:07:23.818666Z",
     "iopub.status.idle": "2023-02-15T09:07:24.378192Z",
     "shell.execute_reply": "2023-02-15T09:07:24.377601Z",
     "shell.execute_reply.started": "2023-02-15T09:07:23.818884Z"
    }
   },
   "outputs": [
    {
     "data": {
      "image/png": "[encoded data removed]",
      "text/plain": [
       "<Figure size 1440x576 with 1 Axes>"
      ]
     },
     "metadata": {
      "needs_background": "light"
     },
     "output_type": "display_data"
    },
    {
     "data": {
      "image/png": "[encoded data removed]",
      "text/plain": [
       "<Figure size 1440x576 with 1 Axes>"
      ]
     },
     "metadata": {
      "needs_background": "light"
     },
     "output_type": "display_data"
    }
   ],
   "source": [
    "for df in [df_customor_order_count_country, df_customor_count_country]:\n",
    "    \n",
    "    group_main  = df.index.names[0]\n",
    "    group_sub   = df.index.names[1]\n",
    "    group_value = df.columns[0]\n",
    "    \n",
    "    group_main_list = []\n",
    "    for idx in df.index:\n",
    "        group_main_list.append(idx[0])\n",
    "\n",
    "    group_main_list = list(set(group_main_list))\n",
    "    title_name = f'{df.index.names[1]}별 {df.columns[0]}'\n",
    "    \n",
    "    ############ df reset_index ############\n",
    "    \n",
    "    df = df.reset_index()\n",
    "\n",
    "    plt.figure(figsize=(20, 8))\n",
    "    plt_xtick = []\n",
    "\n",
    "    for gm in group_main_list:\n",
    "        plt.bar(\n",
    "            data   = df.loc[df[group_main] == gm], \n",
    "            x      = df.loc[df[group_main] == gm].index, \n",
    "            height = group_value, \n",
    "            label  = gm\n",
    "        )\n",
    "        plt_xtick += list(df.loc[df[group_main] == gm].index)\n",
    "    \n",
    "    plt.title(title_name, fontsize=20)\n",
    "    plt.xticks(plt_xtick, list(df[group_sub]), rotation=45)\n",
    "    plt.xticks(fontsize=16)\n",
    "    plt.yticks(fontsize=16)\n",
    "    plt.legend(fontsize=16)   \n",
    "\n",
    "    plt.show()"
   ]
  },
  {
   "cell_type": "markdown",
   "id": "b332a8a8",
   "metadata": {
    "execution": {
     "iopub.execute_input": "2023-02-15T06:59:49.015445Z",
     "iopub.status.busy": "2023-02-15T06:59:49.015207Z",
     "iopub.status.idle": "2023-02-15T06:59:49.018035Z",
     "shell.execute_reply": "2023-02-15T06:59:49.017512Z",
     "shell.execute_reply.started": "2023-02-15T06:59:49.015422Z"
    }
   },
   "source": [
    "#### 2-1) 국가별 매출 금액/ 수익"
   ]
  },
  {
   "cell_type": "code",
   "execution_count": 32,
   "id": "ae3d79ef",
   "metadata": {
    "execution": {
     "iopub.execute_input": "2023-02-15T09:07:29.840843Z",
     "iopub.status.busy": "2023-02-15T09:07:29.840584Z",
     "iopub.status.idle": "2023-02-15T09:07:29.875197Z",
     "shell.execute_reply": "2023-02-15T09:07:29.874680Z",
     "shell.execute_reply.started": "2023-02-15T09:07:29.840807Z"
    }
   },
   "outputs": [
    {
     "data": {
      "text/html": [
       "<div>\n",
       "<style scoped>\n",
       "    .dataframe tbody tr th:only-of-type {\n",
       "        vertical-align: middle;\n",
       "    }\n",
       "\n",
       "    .dataframe tbody tr th {\n",
       "        vertical-align: top;\n",
       "    }\n",
       "\n",
       "    .dataframe thead th {\n",
       "        text-align: right;\n",
       "    }\n",
       "</style>\n",
       "<table border=\"1\" class=\"dataframe\">\n",
       "  <thead>\n",
       "    <tr style=\"text-align: right;\">\n",
       "      <th></th>\n",
       "      <th></th>\n",
       "      <th></th>\n",
       "      <th></th>\n",
       "      <th></th>\n",
       "      <th>매출</th>\n",
       "      <th>수익</th>\n",
       "    </tr>\n",
       "    <tr>\n",
       "      <th>지역</th>\n",
       "      <th>국가/지역</th>\n",
       "      <th>시/도</th>\n",
       "      <th>도시</th>\n",
       "      <th>고객 ID</th>\n",
       "      <th></th>\n",
       "      <th></th>\n",
       "    </tr>\n",
       "  </thead>\n",
       "  <tbody>\n",
       "    <tr>\n",
       "      <th rowspan=\"5\" valign=\"top\">동남아시아</th>\n",
       "      <th rowspan=\"5\" valign=\"top\">Cambodia</th>\n",
       "      <th rowspan=\"5\" valign=\"top\">Phnom Penh</th>\n",
       "      <th rowspan=\"5\" valign=\"top\">Phnom Penh</th>\n",
       "      <th>AB-10600</th>\n",
       "      <td>617.10</td>\n",
       "      <td>172.65</td>\n",
       "    </tr>\n",
       "    <tr>\n",
       "      <th>BW-11110</th>\n",
       "      <td>306.42</td>\n",
       "      <td>48.54</td>\n",
       "    </tr>\n",
       "    <tr>\n",
       "      <th>CD-11920</th>\n",
       "      <td>1428.72</td>\n",
       "      <td>577.74</td>\n",
       "    </tr>\n",
       "    <tr>\n",
       "      <th>CH-12070</th>\n",
       "      <td>116.13</td>\n",
       "      <td>37.38</td>\n",
       "    </tr>\n",
       "    <tr>\n",
       "      <th>CM-12445</th>\n",
       "      <td>26.10</td>\n",
       "      <td>3.60</td>\n",
       "    </tr>\n",
       "    <tr>\n",
       "      <th>...</th>\n",
       "      <th>...</th>\n",
       "      <th>...</th>\n",
       "      <th>...</th>\n",
       "      <th>...</th>\n",
       "      <td>...</td>\n",
       "      <td>...</td>\n",
       "    </tr>\n",
       "    <tr>\n",
       "      <th rowspan=\"5\" valign=\"top\">중앙아시아</th>\n",
       "      <th>Pakistan</th>\n",
       "      <th>Sindh</th>\n",
       "      <th>Sukkur</th>\n",
       "      <th>SJ-20500</th>\n",
       "      <td>52.86</td>\n",
       "      <td>-6.42</td>\n",
       "    </tr>\n",
       "    <tr>\n",
       "      <th rowspan=\"4\" valign=\"top\">Sri Lanka</th>\n",
       "      <th rowspan=\"4\" valign=\"top\">Western</th>\n",
       "      <th rowspan=\"4\" valign=\"top\">Colombo</th>\n",
       "      <th>DE-13255</th>\n",
       "      <td>230.76</td>\n",
       "      <td>33.57</td>\n",
       "    </tr>\n",
       "    <tr>\n",
       "      <th>Dl-13600</th>\n",
       "      <td>95.28</td>\n",
       "      <td>31.44</td>\n",
       "    </tr>\n",
       "    <tr>\n",
       "      <th>FW-14395</th>\n",
       "      <td>472.74</td>\n",
       "      <td>16.80</td>\n",
       "    </tr>\n",
       "    <tr>\n",
       "      <th>MA-17995</th>\n",
       "      <td>53.04</td>\n",
       "      <td>4.56</td>\n",
       "    </tr>\n",
       "  </tbody>\n",
       "</table>\n",
       "<p>5221 rows × 2 columns</p>\n",
       "</div>"
      ],
      "text/plain": [
       "                                                     매출      수익\n",
       "지역    국가/지역     시/도        도시         고객 ID                    \n",
       "동남아시아 Cambodia  Phnom Penh Phnom Penh AB-10600   617.10  172.65\n",
       "                                      BW-11110   306.42   48.54\n",
       "                                      CD-11920  1428.72  577.74\n",
       "                                      CH-12070   116.13   37.38\n",
       "                                      CM-12445    26.10    3.60\n",
       "...                                                 ...     ...\n",
       "중앙아시아 Pakistan  Sindh      Sukkur     SJ-20500    52.86   -6.42\n",
       "      Sri Lanka Western    Colombo    DE-13255   230.76   33.57\n",
       "                                      Dl-13600    95.28   31.44\n",
       "                                      FW-14395   472.74   16.80\n",
       "                                      MA-17995    53.04    4.56\n",
       "\n",
       "[5221 rows x 2 columns]"
      ]
     },
     "execution_count": 32,
     "metadata": {},
     "output_type": "execute_result"
    }
   ],
   "source": [
    "df_customor_val_dup_chk = df_order[['지역', '국가/지역', '시/도', '도시', '고객 ID', '매출', '수익']].duplicated()\n",
    "df_customor_val = pd.DataFrame(\n",
    "    df_order[~df_customor_val_dup_chk].groupby(['지역', '국가/지역', '시/도', '도시', '고객 ID',])[['매출', '수익']].sum()\n",
    ")\n",
    "df_customor_val"
   ]
  },
  {
   "cell_type": "code",
   "execution_count": 33,
   "id": "0fbfce18",
   "metadata": {
    "execution": {
     "iopub.execute_input": "2023-02-15T09:07:30.234680Z",
     "iopub.status.busy": "2023-02-15T09:07:30.234440Z",
     "iopub.status.idle": "2023-02-15T09:07:30.249834Z",
     "shell.execute_reply": "2023-02-15T09:07:30.249336Z",
     "shell.execute_reply.started": "2023-02-15T09:07:30.234658Z"
    }
   },
   "outputs": [],
   "source": [
    "df_customor_val_city    = pd.DataFrame(df_customor_val.groupby(['지역', '국가/지역', '시/도', '도시'])[['매출', '수익']].sum())\n",
    "df_customor_val_state   = pd.DataFrame(df_customor_val.groupby(['지역', '국가/지역', '시/도'])[['매출', '수익']].sum())\n",
    "df_customor_val_country = pd.DataFrame(df_customor_val.groupby(['지역', '국가/지역'])[['매출', '수익']].sum())\n",
    "df_customor_val_region  = pd.DataFrame(df_customor_val.groupby(['지역'])[['매출', '수익']].sum())"
   ]
  },
  {
   "cell_type": "code",
   "execution_count": 50,
   "id": "3fd572bc",
   "metadata": {
    "execution": {
     "iopub.execute_input": "2023-02-15T09:19:38.363061Z",
     "iopub.status.busy": "2023-02-15T09:19:38.362768Z",
     "iopub.status.idle": "2023-02-15T09:19:38.370566Z",
     "shell.execute_reply": "2023-02-15T09:19:38.370013Z",
     "shell.execute_reply.started": "2023-02-15T09:19:38.363031Z"
    }
   },
   "outputs": [
    {
     "data": {
      "text/html": [
       "<div>\n",
       "<style scoped>\n",
       "    .dataframe tbody tr th:only-of-type {\n",
       "        vertical-align: middle;\n",
       "    }\n",
       "\n",
       "    .dataframe tbody tr th {\n",
       "        vertical-align: top;\n",
       "    }\n",
       "\n",
       "    .dataframe thead th {\n",
       "        text-align: right;\n",
       "    }\n",
       "</style>\n",
       "<table border=\"1\" class=\"dataframe\">\n",
       "  <thead>\n",
       "    <tr style=\"text-align: right;\">\n",
       "      <th></th>\n",
       "      <th>매출</th>\n",
       "      <th>수익</th>\n",
       "    </tr>\n",
       "    <tr>\n",
       "      <th>지역</th>\n",
       "      <th></th>\n",
       "      <th></th>\n",
       "    </tr>\n",
       "  </thead>\n",
       "  <tbody>\n",
       "    <tr>\n",
       "      <th>동남아시아</th>\n",
       "      <td>883763.529</td>\n",
       "      <td>17796.399</td>\n",
       "    </tr>\n",
       "    <tr>\n",
       "      <th>북아시아</th>\n",
       "      <td>848179.941</td>\n",
       "      <td>165567.801</td>\n",
       "    </tr>\n",
       "    <tr>\n",
       "      <th>오세아니아</th>\n",
       "      <td>1100145.786</td>\n",
       "      <td>120076.716</td>\n",
       "    </tr>\n",
       "    <tr>\n",
       "      <th>중앙아시아</th>\n",
       "      <td>733968.147</td>\n",
       "      <td>128511.637</td>\n",
       "    </tr>\n",
       "  </tbody>\n",
       "</table>\n",
       "</div>"
      ],
      "text/plain": [
       "                매출          수익\n",
       "지역                            \n",
       "동남아시아   883763.529   17796.399\n",
       "북아시아    848179.941  165567.801\n",
       "오세아니아  1100145.786  120076.716\n",
       "중앙아시아   733968.147  128511.637"
      ]
     },
     "execution_count": 50,
     "metadata": {},
     "output_type": "execute_result"
    }
   ],
   "source": [
    "df_customor_val_region"
   ]
  },
  {
   "cell_type": "code",
   "execution_count": 53,
   "id": "2e182d61",
   "metadata": {
    "execution": {
     "iopub.execute_input": "2023-02-15T09:20:52.483558Z",
     "iopub.status.busy": "2023-02-15T09:20:52.483254Z",
     "iopub.status.idle": "2023-02-15T09:20:52.775182Z",
     "shell.execute_reply": "2023-02-15T09:20:52.774516Z",
     "shell.execute_reply.started": "2023-02-15T09:20:52.483528Z"
    }
   },
   "outputs": [
    {
     "data": {
      "image/png": "[encoded data removed]",
      "text/plain": [
       "<Figure size 1440x576 with 1 Axes>"
      ]
     },
     "metadata": {
      "needs_background": "light"
     },
     "output_type": "display_data"
    },
    {
     "data": {
      "image/png": "[encoded data removed]",
      "text/plain": [
       "<Figure size 1440x576 with 1 Axes>"
      ]
     },
     "metadata": {
      "needs_background": "light"
     },
     "output_type": "display_data"
    }
   ],
   "source": [
    "for i in range(2):\n",
    "    plt.figure(figsize=(20, 8))\n",
    "    plt.bar(\n",
    "        data   = df_customor_val_region, \n",
    "        x      = df_customor_val_region.index, \n",
    "        height = df_customor_val_region.columns[i]\n",
    "    )\n",
    "\n",
    "    plt.title(f'{df_customor_val_region.index.name}별 {df_customor_val_region.columns[i]}', fontsize=20)\n",
    "    plt.xticks(fontsize=16)\n",
    "    plt.yticks(fontsize=16)\n",
    "\n",
    "    plt.show()"
   ]
  },
  {
   "cell_type": "code",
   "execution_count": 59,
   "id": "dfcbe8bd",
   "metadata": {
    "execution": {
     "iopub.execute_input": "2023-02-15T09:23:24.434705Z",
     "iopub.status.busy": "2023-02-15T09:23:24.434465Z",
     "iopub.status.idle": "2023-02-15T09:23:24.988021Z",
     "shell.execute_reply": "2023-02-15T09:23:24.987274Z",
     "shell.execute_reply.started": "2023-02-15T09:23:24.434682Z"
    }
   },
   "outputs": [
    {
     "data": {
      "image/png": "[encoded data removed]",
      "text/plain": [
       "<Figure size 1440x576 with 1 Axes>"
      ]
     },
     "metadata": {
      "needs_background": "light"
     },
     "output_type": "display_data"
    },
    {
     "data": {
      "image/png": "[encoded data removed]",
      "text/plain": [
       "<Figure size 1440x576 with 1 Axes>"
      ]
     },
     "metadata": {
      "needs_background": "light"
     },
     "output_type": "display_data"
    }
   ],
   "source": [
    "for i in range(2):\n",
    "    \n",
    "    df = df_customor_val_country\n",
    "    \n",
    "    group_main  = df.index.names[0]\n",
    "    group_sub   = df.index.names[1]\n",
    "    group_value = df.columns[i]\n",
    "    \n",
    "    group_main_list = []\n",
    "    for idx in df.index:\n",
    "        group_main_list.append(idx[0])\n",
    "\n",
    "    group_main_list = list(set(group_main_list))\n",
    "    title_name = f'{df.index.names[1]}별 {df.columns[i]}'\n",
    "    \n",
    "    ############ df reset_index ############\n",
    "    \n",
    "    df = df.reset_index()\n",
    "\n",
    "    plt.figure(figsize=(20, 8))\n",
    "    plt_xtick = []\n",
    "\n",
    "    for gm in group_main_list:\n",
    "        plt.bar(\n",
    "            data   = df.loc[df[group_main] == gm], \n",
    "            x      = df.loc[df[group_main] == gm].index, \n",
    "            height = group_value, \n",
    "            label  = gm\n",
    "        )\n",
    "        plt_xtick += list(df.loc[df[group_main] == gm].index)\n",
    "    \n",
    "    plt.title(title_name, fontsize=20)\n",
    "    plt.xticks(plt_xtick, list(df[group_sub]), rotation=45)\n",
    "    plt.xticks(fontsize=16)\n",
    "    plt.yticks(fontsize=16)\n",
    "    plt.legend(fontsize=16)   \n",
    "\n",
    "    plt.show()"
   ]
  },
  {
   "cell_type": "code",
   "execution_count": 62,
   "id": "4c738286",
   "metadata": {
    "execution": {
     "iopub.execute_input": "2023-02-15T09:24:39.260344Z",
     "iopub.status.busy": "2023-02-15T09:24:39.260099Z",
     "iopub.status.idle": "2023-02-15T09:24:39.274056Z",
     "shell.execute_reply": "2023-02-15T09:24:39.273412Z",
     "shell.execute_reply.started": "2023-02-15T09:24:39.260320Z"
    }
   },
   "outputs": [
    {
     "data": {
      "text/html": [
       "<div>\n",
       "<style scoped>\n",
       "    .dataframe tbody tr th:only-of-type {\n",
       "        vertical-align: middle;\n",
       "    }\n",
       "\n",
       "    .dataframe tbody tr th {\n",
       "        vertical-align: top;\n",
       "    }\n",
       "\n",
       "    .dataframe thead th {\n",
       "        text-align: right;\n",
       "    }\n",
       "</style>\n",
       "<table border=\"1\" class=\"dataframe\">\n",
       "  <thead>\n",
       "    <tr style=\"text-align: right;\">\n",
       "      <th></th>\n",
       "      <th></th>\n",
       "      <th></th>\n",
       "      <th>매출</th>\n",
       "      <th>수익</th>\n",
       "    </tr>\n",
       "    <tr>\n",
       "      <th>지역</th>\n",
       "      <th>국가/지역</th>\n",
       "      <th>시/도</th>\n",
       "      <th></th>\n",
       "      <th></th>\n",
       "    </tr>\n",
       "  </thead>\n",
       "  <tbody>\n",
       "    <tr>\n",
       "      <th rowspan=\"5\" valign=\"top\">동남아시아</th>\n",
       "      <th>Cambodia</th>\n",
       "      <th>Phnom Penh</th>\n",
       "      <td>17476.0200</td>\n",
       "      <td>4476.5400</td>\n",
       "    </tr>\n",
       "    <tr>\n",
       "      <th rowspan=\"4\" valign=\"top\">Indonesia</th>\n",
       "      <th>Aceh</th>\n",
       "      <td>337.5057</td>\n",
       "      <td>-49.6743</td>\n",
       "    </tr>\n",
       "    <tr>\n",
       "      <th>Bali</th>\n",
       "      <td>6841.5531</td>\n",
       "      <td>249.7731</td>\n",
       "    </tr>\n",
       "    <tr>\n",
       "      <th>Bengkulu</th>\n",
       "      <td>534.6765</td>\n",
       "      <td>167.2065</td>\n",
       "    </tr>\n",
       "    <tr>\n",
       "      <th>Jakarta</th>\n",
       "      <td>94321.3242</td>\n",
       "      <td>3826.9842</td>\n",
       "    </tr>\n",
       "    <tr>\n",
       "      <th>...</th>\n",
       "      <th>...</th>\n",
       "      <th>...</th>\n",
       "      <td>...</td>\n",
       "      <td>...</td>\n",
       "    </tr>\n",
       "    <tr>\n",
       "      <th rowspan=\"5\" valign=\"top\">중앙아시아</th>\n",
       "      <th rowspan=\"4\" valign=\"top\">Pakistan</th>\n",
       "      <th>F.C.T.</th>\n",
       "      <td>2921.4090</td>\n",
       "      <td>-1537.7610</td>\n",
       "    </tr>\n",
       "    <tr>\n",
       "      <th>Khyber Pakhtunkhwa</th>\n",
       "      <td>2010.9300</td>\n",
       "      <td>-181.9500</td>\n",
       "    </tr>\n",
       "    <tr>\n",
       "      <th>Punjab</th>\n",
       "      <td>46062.2700</td>\n",
       "      <td>-17700.6000</td>\n",
       "    </tr>\n",
       "    <tr>\n",
       "      <th>Sindh</th>\n",
       "      <td>5976.8130</td>\n",
       "      <td>-1894.1970</td>\n",
       "    </tr>\n",
       "    <tr>\n",
       "      <th>Sri Lanka</th>\n",
       "      <th>Western</th>\n",
       "      <td>851.8200</td>\n",
       "      <td>86.3700</td>\n",
       "    </tr>\n",
       "  </tbody>\n",
       "</table>\n",
       "<p>182 rows × 2 columns</p>\n",
       "</div>"
      ],
      "text/plain": [
       "                                            매출          수익\n",
       "지역    국가/지역     시/도                                       \n",
       "동남아시아 Cambodia  Phnom Penh          17476.0200   4476.5400\n",
       "      Indonesia Aceh                  337.5057    -49.6743\n",
       "                Bali                 6841.5531    249.7731\n",
       "                Bengkulu              534.6765    167.2065\n",
       "                Jakarta             94321.3242   3826.9842\n",
       "...                                        ...         ...\n",
       "중앙아시아 Pakistan  F.C.T.               2921.4090  -1537.7610\n",
       "                Khyber Pakhtunkhwa   2010.9300   -181.9500\n",
       "                Punjab              46062.2700 -17700.6000\n",
       "                Sindh                5976.8130  -1894.1970\n",
       "      Sri Lanka Western               851.8200     86.3700\n",
       "\n",
       "[182 rows x 2 columns]"
      ]
     },
     "execution_count": 62,
     "metadata": {},
     "output_type": "execute_result"
    }
   ],
   "source": [
    "df_customor_val_state"
   ]
  },
  {
   "cell_type": "code",
   "execution_count": 67,
   "id": "2585faae",
   "metadata": {
    "execution": {
     "iopub.execute_input": "2023-02-15T09:25:54.873724Z",
     "iopub.status.busy": "2023-02-15T09:25:54.873476Z",
     "iopub.status.idle": "2023-02-15T09:25:54.887161Z",
     "shell.execute_reply": "2023-02-15T09:25:54.886553Z",
     "shell.execute_reply.started": "2023-02-15T09:25:54.873699Z"
    }
   },
   "outputs": [
    {
     "data": {
      "text/html": [
       "<div>\n",
       "<style scoped>\n",
       "    .dataframe tbody tr th:only-of-type {\n",
       "        vertical-align: middle;\n",
       "    }\n",
       "\n",
       "    .dataframe tbody tr th {\n",
       "        vertical-align: top;\n",
       "    }\n",
       "\n",
       "    .dataframe thead th {\n",
       "        text-align: right;\n",
       "    }\n",
       "</style>\n",
       "<table border=\"1\" class=\"dataframe\">\n",
       "  <thead>\n",
       "    <tr style=\"text-align: right;\">\n",
       "      <th></th>\n",
       "      <th>지역</th>\n",
       "      <th>국가/지역</th>\n",
       "      <th>시/도</th>\n",
       "      <th>매출</th>\n",
       "      <th>수익</th>\n",
       "    </tr>\n",
       "  </thead>\n",
       "  <tbody>\n",
       "    <tr>\n",
       "      <th>175</th>\n",
       "      <td>중앙아시아</td>\n",
       "      <td>Nepal</td>\n",
       "      <td>Western</td>\n",
       "      <td>3522.24</td>\n",
       "      <td>877.44</td>\n",
       "    </tr>\n",
       "  </tbody>\n",
       "</table>\n",
       "</div>"
      ],
      "text/plain": [
       "        지역  국가/지역      시/도       매출      수익\n",
       "175  중앙아시아  Nepal  Western  3522.24  877.44"
      ]
     },
     "execution_count": 67,
     "metadata": {},
     "output_type": "execute_result"
    }
   ],
   "source": [
    "df_customor_val_state.reset_index()[df_customor_val_state.reset_index()['국가/지역'] == 'Nepal']"
   ]
  },
  {
   "cell_type": "markdown",
   "id": "8b22fc53",
   "metadata": {},
   "source": [
    "### 3) 제품별 주문 건수 / 매출 금액 / 수익"
   ]
  },
  {
   "cell_type": "code",
   "execution_count": null,
   "id": "7cc11c0e",
   "metadata": {},
   "outputs": [],
   "source": []
  },
  {
   "cell_type": "markdown",
   "id": "dde6c4ce",
   "metadata": {},
   "source": [
    "### 4) 날짜주기별 주문 건수 / 매출 금액/ 수익"
   ]
  },
  {
   "cell_type": "markdown",
   "id": "6a8ce982",
   "metadata": {},
   "source": [
    "#### [날짜주기]\n",
    "- 일자별\n",
    "- 요일별\n",
    "- 월별\n",
    "- 분기별\n",
    "- 년도별"
   ]
  },
  {
   "cell_type": "markdown",
   "id": "77a1377c",
   "metadata": {},
   "source": [
    "#### 4-1) 일자별 주문 건수 / 매출 금액/ 수익"
   ]
  },
  {
   "cell_type": "code",
   "execution_count": null,
   "id": "42f911c1",
   "metadata": {},
   "outputs": [],
   "source": []
  },
  {
   "cell_type": "markdown",
   "id": "87b752e8",
   "metadata": {},
   "source": [
    "#### 4-2) 요일별 주문 건수 / 매출 금액/ 수익"
   ]
  },
  {
   "cell_type": "code",
   "execution_count": null,
   "id": "683ee1a3",
   "metadata": {},
   "outputs": [],
   "source": []
  },
  {
   "cell_type": "markdown",
   "id": "3075d634",
   "metadata": {},
   "source": [
    "#### 4-3) 월별 주문 건수 / 매출 금액/ 수익"
   ]
  },
  {
   "cell_type": "code",
   "execution_count": null,
   "id": "1dac07d6",
   "metadata": {},
   "outputs": [],
   "source": []
  },
  {
   "cell_type": "markdown",
   "id": "aa762a0c",
   "metadata": {
    "execution": {
     "iopub.execute_input": "2023-02-15T07:03:29.715124Z",
     "iopub.status.busy": "2023-02-15T07:03:29.714877Z",
     "iopub.status.idle": "2023-02-15T07:03:29.717894Z",
     "shell.execute_reply": "2023-02-15T07:03:29.717237Z",
     "shell.execute_reply.started": "2023-02-15T07:03:29.715099Z"
    }
   },
   "source": [
    "#### 4-4) 분기별 주문 건수 / 매출 금액/ 수익"
   ]
  },
  {
   "cell_type": "code",
   "execution_count": null,
   "id": "95e39b35",
   "metadata": {},
   "outputs": [],
   "source": []
  },
  {
   "cell_type": "markdown",
   "id": "8fdafc3d",
   "metadata": {
    "execution": {
     "iopub.execute_input": "2023-02-15T07:03:30.038907Z",
     "iopub.status.busy": "2023-02-15T07:03:30.038670Z",
     "iopub.status.idle": "2023-02-15T07:03:30.041503Z",
     "shell.execute_reply": "2023-02-15T07:03:30.040935Z",
     "shell.execute_reply.started": "2023-02-15T07:03:30.038883Z"
    }
   },
   "source": [
    "#### 4-5) 년도별 주문 건수 / 매출 금액/ 수익"
   ]
  },
  {
   "cell_type": "code",
   "execution_count": null,
   "id": "8238bafd",
   "metadata": {},
   "outputs": [],
   "source": []
  },
  {
   "cell_type": "markdown",
   "id": "c66793aa",
   "metadata": {},
   "source": [
    "### 5) 세그먼트별 주문 건수 / 매출 금액/ 수익"
   ]
  },
  {
   "cell_type": "code",
   "execution_count": null,
   "id": "f38fc1fc",
   "metadata": {},
   "outputs": [],
   "source": []
  },
  {
   "cell_type": "markdown",
   "id": "899c8123",
   "metadata": {},
   "source": [
    "### 6) 배송 형태 별 주문 건수 / 매출 금액/ 수익"
   ]
  },
  {
   "cell_type": "code",
   "execution_count": null,
   "id": "154c7734",
   "metadata": {},
   "outputs": [],
   "source": []
  },
  {
   "cell_type": "markdown",
   "id": "2c62f66d",
   "metadata": {},
   "source": [
    "### 7) 상품 키워드 별 주문 건수 / 매출 금액/ 수익"
   ]
  },
  {
   "cell_type": "code",
   "execution_count": null,
   "id": "6a3abd09",
   "metadata": {},
   "outputs": [],
   "source": []
  },
  {
   "cell_type": "markdown",
   "id": "fdb70f14",
   "metadata": {
    "execution": {
     "iopub.execute_input": "2023-02-15T07:04:36.089325Z",
     "iopub.status.busy": "2023-02-15T07:04:36.089087Z",
     "iopub.status.idle": "2023-02-15T07:04:36.092039Z",
     "shell.execute_reply": "2023-02-15T07:04:36.091362Z",
     "shell.execute_reply.started": "2023-02-15T07:04:36.089303Z"
    }
   },
   "source": [
    "# 3. 추가 질의 및 확인"
   ]
  },
  {
   "cell_type": "markdown",
   "id": "e3b63ce1",
   "metadata": {
    "execution": {
     "iopub.execute_input": "2023-02-15T07:05:13.044685Z",
     "iopub.status.busy": "2023-02-15T07:05:13.044453Z",
     "iopub.status.idle": "2023-02-15T07:05:13.047508Z",
     "shell.execute_reply": "2023-02-15T07:05:13.046797Z",
     "shell.execute_reply.started": "2023-02-15T07:05:13.044660Z"
    }
   },
   "source": [
    "### 1) 주기에 따른 지역별 할인율 추이 비교"
   ]
  },
  {
   "cell_type": "code",
   "execution_count": null,
   "id": "67fd8cff",
   "metadata": {},
   "outputs": [],
   "source": []
  },
  {
   "cell_type": "markdown",
   "id": "cfc4a604",
   "metadata": {
    "execution": {
     "iopub.execute_input": "2023-02-15T07:07:31.168390Z",
     "iopub.status.busy": "2023-02-15T07:07:31.168150Z",
     "iopub.status.idle": "2023-02-15T07:07:31.171373Z",
     "shell.execute_reply": "2023-02-15T07:07:31.170562Z",
     "shell.execute_reply.started": "2023-02-15T07:07:31.168367Z"
    }
   },
   "source": [
    "### 2) 주문 - 배송 일자 차이에 따른 반품율"
   ]
  },
  {
   "cell_type": "code",
   "execution_count": null,
   "id": "a3326db0",
   "metadata": {},
   "outputs": [],
   "source": []
  }
 ],
 "metadata": {
  "kernelspec": {
   "display_name": "Python 3",
   "language": "python",
   "name": "python3"
  },
  "language_info": {
   "codemirror_mode": {
    "name": "ipython",
    "version": 3
   },
   "file_extension": ".py",
   "mimetype": "text/x-python",
   "name": "python",
   "nbconvert_exporter": "python",
   "pygments_lexer": "ipython3",
   "version": "3.6.9"
  }
 },
 "nbformat": 4,
 "nbformat_minor": 5
}
